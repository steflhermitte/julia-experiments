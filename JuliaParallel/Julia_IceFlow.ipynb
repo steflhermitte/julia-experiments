{
  "nbformat": 4,
  "nbformat_minor": 0,
  "metadata": {
    "colab": {
      "name": "Julia_Colab_Notebook_Template.ipynb",
      "provenance": [],
      "collapsed_sections": [],
      "toc_visible": true,
      "include_colab_link": true
    },
    "kernelspec": {
      "display_name": "Julia",
      "language": "julia",
      "name": "julia"
    },
    "language_info": {
      "file_extension": ".jl",
      "mimetype": "application/julia",
      "name": "julia"
    },
    "accelerator": "GPU"
  },
  "cells": [
    {
      "cell_type": "markdown",
      "metadata": {
        "id": "view-in-github",
        "colab_type": "text"
      },
      "source": [
        "<a href=\"https://colab.research.google.com/github/steflhermitte/julia-experiments/blob/main/JuliaParallel/Julia_IceFlow.ipynb\" target=\"_parent\"><img src=\"https://colab.research.google.com/assets/colab-badge.svg\" alt=\"Open In Colab\"/></a>"
      ]
    },
    {
      "cell_type": "markdown",
      "metadata": {
        "id": "tQ1r1bbb0yBv"
      },
      "source": [
        "# <img src=\"https://github.com/JuliaLang/julia-logo-graphics/raw/master/images/julia-logo-color.png\" height=\"100\" /> _1D Diffusion_\n",
        "\n",
        "<!-- ## Instructions\n",
        "1. Work on a copy of this notebook: _File_ > _Save a copy in Drive_ (you will need a Google account). Alternatively, you can download the notebook using _File_ > _Download .ipynb_, then upload it to [Colab](https://colab.research.google.com/).\n",
        "2. If you need a GPU: _Runtime_ > _Change runtime type_ > _Harware accelerator_ = _GPU_.\n",
        "3. Execute the following cell (click on it and press Ctrl+Enter) to install Julia, IJulia and other packages (if needed, update `JULIA_VERSION` and the other parameters). This takes a couple of minutes.\n",
        "4. Reload this page (press Ctrl+R, or ⌘+R, or the F5 key) and continue to the next section.\n",
        "\n",
        "_Notes_:\n",
        "* If your Colab Runtime gets reset (e.g., due to inactivity), repeat steps 2, 3 and 4.\n",
        "* After installation, if you want to change the Julia version or activate/deactivate the GPU, you will need to reset the Runtime: _Runtime_ > _Factory reset runtime_ and repeat steps 3 and 4. -->"
      ]
    },
    {
      "cell_type": "markdown",
      "source": [
        "# Install Julia GPU in Colab"
      ],
      "metadata": {
        "id": "ay8T2Req2bQP"
      }
    },
    {
      "cell_type": "code",
      "metadata": {
        "id": "GIeFXS0F0zww",
        "colab": {
          "base_uri": "https://localhost:8080/",
          "height": 87
        },
        "outputId": "da654ba1-7a3f-424f-cece-782bb5f631b5"
      },
      "source": [
        "%%shell\n",
        "set -e\n",
        "\n",
        "#---------------------------------------------------#\n",
        "JULIA_VERSION=\"1.6.0\" # any version ≥ 0.7.0\n",
        "JULIA_PACKAGES=\"IJulia BenchmarkTools Plots\"\n",
        "JULIA_PACKAGES_IF_GPU=\"CUDA\" # or CuArrays for older Julia versions\n",
        "JULIA_NUM_THREADS=2\n",
        "#---------------------------------------------------#\n",
        "\n",
        "if [ -n \"$COLAB_GPU\" ] && [ -z `which julia` ]; then\n",
        "  # Install Julia\n",
        "  JULIA_VER=`cut -d '.' -f -2 <<< \"$JULIA_VERSION\"`\n",
        "  echo \"Installing Julia $JULIA_VERSION on the current Colab Runtime...\"\n",
        "  BASE_URL=\"https://julialang-s3.julialang.org/bin/linux/x64\"\n",
        "  URL=\"$BASE_URL/$JULIA_VER/julia-$JULIA_VERSION-linux-x86_64.tar.gz\"\n",
        "  wget -nv $URL -O /tmp/julia.tar.gz # -nv means \"not verbose\"\n",
        "  tar -x -f /tmp/julia.tar.gz -C /usr/local --strip-components 1\n",
        "  rm /tmp/julia.tar.gz\n",
        "\n",
        "  # Install Packages\n",
        "  if [ \"$COLAB_GPU\" = \"1\" ]; then\n",
        "      JULIA_PACKAGES=\"$JULIA_PACKAGES $JULIA_PACKAGES_IF_GPU\"\n",
        "  fi\n",
        "  for PKG in `echo $JULIA_PACKAGES`; do\n",
        "    echo \"Installing Julia package $PKG...\"\n",
        "    julia -e 'using Pkg; pkg\"add '$PKG'; precompile;\"' &> /dev/null\n",
        "  done\n",
        "\n",
        "  # Install kernel and rename it to \"julia\"\n",
        "  echo \"Installing IJulia kernel...\"\n",
        "  julia -e 'using IJulia; IJulia.installkernel(\"julia\", env=Dict(\n",
        "      \"JULIA_NUM_THREADS\"=>\"'\"$JULIA_NUM_THREADS\"'\"))'\n",
        "  KERNEL_DIR=`julia -e \"using IJulia; print(IJulia.kerneldir())\"`\n",
        "  KERNEL_NAME=`ls -d \"$KERNEL_DIR\"/julia*`\n",
        "  mv -f $KERNEL_NAME \"$KERNEL_DIR\"/julia  \n",
        "\n",
        "  echo ''\n",
        "  echo \"Success! Please reload this page and jump to the next section.\"\n",
        "fi"
      ],
      "execution_count": 1,
      "outputs": [
        {
          "output_type": "display_data",
          "data": {
            "text/latex": "Unrecognized magic \\texttt{\\%\\%shell}.\n\nJulia does not use the IPython \\texttt{\\%magic} syntax.   To interact with the IJulia kernel, use \\texttt{IJulia.somefunction(...)}, for example.  Julia macros, string macros, and functions can be used to accomplish most of the other functionalities of IPython magics.\n\n",
            "text/markdown": "Unrecognized magic `%%shell`.\n\nJulia does not use the IPython `%magic` syntax.   To interact with the IJulia kernel, use `IJulia.somefunction(...)`, for example.  Julia macros, string macros, and functions can be used to accomplish most of the other functionalities of IPython magics.\n",
            "text/plain": [
              "  Unrecognized magic \u001b[36m%%shell\u001b[39m.\n",
              "\n",
              "  Julia does not use the IPython \u001b[36m%magic\u001b[39m syntax. To interact with the IJulia\n",
              "  kernel, use \u001b[36mIJulia.somefunction(...)\u001b[39m, for example. Julia macros, string\n",
              "  macros, and functions can be used to accomplish most of the other\n",
              "  functionalities of IPython magics."
            ]
          },
          "metadata": {}
        }
      ]
    },
    {
      "cell_type": "markdown",
      "metadata": {
        "id": "-OS3Ac017T1i"
      },
      "source": [
        "# Checking the Installation\n",
        "The `versioninfo()` function should print your Julia version and some other info about the system:"
      ]
    },
    {
      "cell_type": "code",
      "metadata": {
        "id": "EEzvvzCl1i0F",
        "colab": {
          "base_uri": "https://localhost:8080/"
        },
        "outputId": "d8802119-9257-4ad3-8bbf-9bd9f5d697ee"
      },
      "source": [
        "versioninfo()"
      ],
      "execution_count": 2,
      "outputs": [
        {
          "output_type": "stream",
          "name": "stdout",
          "text": [
            "Julia Version 1.6.0\n",
            "Commit f9720dc2eb (2021-03-24 12:55 UTC)\n",
            "Platform Info:\n",
            "  OS: Linux (x86_64-pc-linux-gnu)\n",
            "  CPU: Intel(R) Xeon(R) CPU @ 2.30GHz\n",
            "  WORD_SIZE: 64\n",
            "  LIBM: libopenlibm\n",
            "  LLVM: libLLVM-11.0.1 (ORCJIT, haswell)\n",
            "Environment:\n",
            "  JULIA_NUM_THREADS = 2\n"
          ]
        }
      ]
    },
    {
      "cell_type": "code",
      "metadata": {
        "id": "yQlpeR9wNOi8",
        "colab": {
          "base_uri": "https://localhost:8080/"
        },
        "outputId": "74f36a14-1164-4c93-c23f-5fddc5ed0003"
      },
      "source": [
        "using BenchmarkTools\n",
        "\n",
        "M = rand(2048, 2048)\n",
        "@benchmark M^2"
      ],
      "execution_count": 3,
      "outputs": [
        {
          "output_type": "execute_result",
          "data": {
            "text/plain": [
              "BenchmarkTools.Trial: 10 samples with 1 evaluation.\n",
              " Range \u001b[90m(\u001b[39m\u001b[36m\u001b[1mmin\u001b[22m\u001b[39m … \u001b[35mmax\u001b[39m\u001b[90m):  \u001b[39m\u001b[36m\u001b[1m479.830 ms\u001b[22m\u001b[39m … \u001b[35m621.322 ms\u001b[39m  \u001b[90m┊\u001b[39m GC \u001b[90m(\u001b[39mmin … max\u001b[90m): \u001b[39m0.19% … 18.29%\n",
              " Time  \u001b[90m(\u001b[39m\u001b[34m\u001b[1mmedian\u001b[22m\u001b[39m\u001b[90m):     \u001b[39m\u001b[34m\u001b[1m499.648 ms               \u001b[22m\u001b[39m\u001b[90m┊\u001b[39m GC \u001b[90m(\u001b[39mmedian\u001b[90m):    \u001b[39m0.09%\n",
              " Time  \u001b[90m(\u001b[39m\u001b[32m\u001b[1mmean\u001b[22m\u001b[39m ± \u001b[32mσ\u001b[39m\u001b[90m):   \u001b[39m\u001b[32m\u001b[1m519.145 ms\u001b[22m\u001b[39m ± \u001b[32m 49.055 ms\u001b[39m  \u001b[90m┊\u001b[39m GC \u001b[90m(\u001b[39mmean ± σ\u001b[90m):  \u001b[39m4.51% ±  7.06%\n",
              "\n",
              "  \u001b[39m▁\u001b[39m \u001b[39m \u001b[39m \u001b[39m▁\u001b[39m█\u001b[39m▁\u001b[34m \u001b[39m\u001b[39m \u001b[39m \u001b[39m█\u001b[39m \u001b[39m \u001b[39m▁\u001b[39m \u001b[39m \u001b[39m \u001b[32m \u001b[39m\u001b[39m \u001b[39m \u001b[39m \u001b[39m \u001b[39m \u001b[39m \u001b[39m \u001b[39m \u001b[39m \u001b[39m \u001b[39m \u001b[39m \u001b[39m \u001b[39m \u001b[39m \u001b[39m \u001b[39m \u001b[39m \u001b[39m \u001b[39m \u001b[39m \u001b[39m \u001b[39m \u001b[39m \u001b[39m \u001b[39m \u001b[39m \u001b[39m \u001b[39m \u001b[39m \u001b[39m \u001b[39m \u001b[39m \u001b[39m▁\u001b[39m \u001b[39m \u001b[39m \u001b[39m \u001b[39m \u001b[39m \u001b[39m \u001b[39m \u001b[39m▁\u001b[39m \u001b[39m \n",
              "  \u001b[39m█\u001b[39m▁\u001b[39m▁\u001b[39m▁\u001b[39m█\u001b[39m█\u001b[39m█\u001b[34m▁\u001b[39m\u001b[39m▁\u001b[39m▁\u001b[39m█\u001b[39m▁\u001b[39m▁\u001b[39m█\u001b[39m▁\u001b[39m▁\u001b[39m▁\u001b[32m▁\u001b[39m\u001b[39m▁\u001b[39m▁\u001b[39m▁\u001b[39m▁\u001b[39m▁\u001b[39m▁\u001b[39m▁\u001b[39m▁\u001b[39m▁\u001b[39m▁\u001b[39m▁\u001b[39m▁\u001b[39m▁\u001b[39m▁\u001b[39m▁\u001b[39m▁\u001b[39m▁\u001b[39m▁\u001b[39m▁\u001b[39m▁\u001b[39m▁\u001b[39m▁\u001b[39m▁\u001b[39m▁\u001b[39m▁\u001b[39m▁\u001b[39m▁\u001b[39m▁\u001b[39m▁\u001b[39m▁\u001b[39m▁\u001b[39m▁\u001b[39m▁\u001b[39m█\u001b[39m▁\u001b[39m▁\u001b[39m▁\u001b[39m▁\u001b[39m▁\u001b[39m▁\u001b[39m▁\u001b[39m▁\u001b[39m█\u001b[39m \u001b[39m▁\n",
              "  480 ms\u001b[90m           Histogram: frequency by time\u001b[39m          621 ms \u001b[0m\u001b[1m<\u001b[22m\n",
              "\n",
              " Memory estimate\u001b[90m: \u001b[39m\u001b[33m32.00 MiB\u001b[39m, allocs estimate\u001b[90m: \u001b[39m\u001b[33m2\u001b[39m."
            ]
          },
          "metadata": {},
          "execution_count": 3
        }
      ]
    },
    {
      "cell_type": "code",
      "metadata": {
        "id": "XciCcMAJOT3_",
        "colab": {
          "base_uri": "https://localhost:8080/"
        },
        "outputId": "67611d5c-b8bc-4e59-ba38-eb970db94c30"
      },
      "source": [
        "if ENV[\"COLAB_GPU\"] == \"1\"\n",
        "    using CUDA\n",
        "\n",
        "    M_gpu = cu(M)\n",
        "    @benchmark CUDA.@sync M_gpu^2\n",
        "else\n",
        "    println(\"No GPU found.\")\n",
        "end"
      ],
      "execution_count": 4,
      "outputs": [
        {
          "output_type": "stream",
          "name": "stderr",
          "text": [
            "\u001b[32m\u001b[1m Downloading\u001b[22m\u001b[39m artifact: CUDA_compat\n",
            "\u001b[32m\u001b[1m Downloading\u001b[22m\u001b[39m artifact: CUDA\n"
          ]
        },
        {
          "output_type": "execute_result",
          "data": {
            "text/plain": [
              "BenchmarkTools.Trial: 603 samples with 1 evaluation.\n",
              " Range \u001b[90m(\u001b[39m\u001b[36m\u001b[1mmin\u001b[22m\u001b[39m … \u001b[35mmax\u001b[39m\u001b[90m):  \u001b[39m\u001b[36m\u001b[1m5.924 ms\u001b[22m\u001b[39m … \u001b[35m 10.744 ms\u001b[39m  \u001b[90m┊\u001b[39m GC \u001b[90m(\u001b[39mmin … max\u001b[90m): \u001b[39m0.00% … 0.00%\n",
              " Time  \u001b[90m(\u001b[39m\u001b[34m\u001b[1mmedian\u001b[22m\u001b[39m\u001b[90m):     \u001b[39m\u001b[34m\u001b[1m8.293 ms               \u001b[22m\u001b[39m\u001b[90m┊\u001b[39m GC \u001b[90m(\u001b[39mmedian\u001b[90m):    \u001b[39m0.00%\n",
              " Time  \u001b[90m(\u001b[39m\u001b[32m\u001b[1mmean\u001b[22m\u001b[39m ± \u001b[32mσ\u001b[39m\u001b[90m):   \u001b[39m\u001b[32m\u001b[1m8.284 ms\u001b[22m\u001b[39m ± \u001b[32m564.265 μs\u001b[39m  \u001b[90m┊\u001b[39m GC \u001b[90m(\u001b[39mmean ± σ\u001b[90m):  \u001b[39m0.00% ± 0.00%\n",
              "\n",
              "  \u001b[39m \u001b[39m \u001b[39m \u001b[39m \u001b[39m \u001b[39m \u001b[39m \u001b[39m \u001b[39m \u001b[39m \u001b[39m \u001b[39m \u001b[39m \u001b[39m \u001b[39m \u001b[39m \u001b[39m \u001b[39m \u001b[39m \u001b[39m \u001b[39m \u001b[39m \u001b[39m \u001b[39m \u001b[39m \u001b[39m \u001b[39m \u001b[39m \u001b[39m \u001b[39m \u001b[39m \u001b[39m \u001b[39m \u001b[39m \u001b[39m▅\u001b[39m█\u001b[39m \u001b[39m▃\u001b[39m▁\u001b[34m \u001b[39m\u001b[39m \u001b[39m \u001b[39m▇\u001b[39m▂\u001b[39m \u001b[39m▃\u001b[39m \u001b[39m \u001b[39m \u001b[39m \u001b[39m \u001b[39m \u001b[39m \u001b[39m \u001b[39m \u001b[39m \u001b[39m \u001b[39m \u001b[39m \u001b[39m \u001b[39m \n",
              "  \u001b[39m▄\u001b[39m▁\u001b[39m▁\u001b[39m▂\u001b[39m▁\u001b[39m▃\u001b[39m▃\u001b[39m▂\u001b[39m▁\u001b[39m▁\u001b[39m▁\u001b[39m▁\u001b[39m▁\u001b[39m▂\u001b[39m▃\u001b[39m▂\u001b[39m▁\u001b[39m▂\u001b[39m▁\u001b[39m▁\u001b[39m▂\u001b[39m▁\u001b[39m▂\u001b[39m▁\u001b[39m▁\u001b[39m▁\u001b[39m▁\u001b[39m▁\u001b[39m▁\u001b[39m▁\u001b[39m▁\u001b[39m▁\u001b[39m▁\u001b[39m▂\u001b[39m█\u001b[39m█\u001b[39m▇\u001b[39m█\u001b[39m█\u001b[34m▄\u001b[39m\u001b[39m▇\u001b[39m▄\u001b[39m█\u001b[39m█\u001b[39m▅\u001b[39m█\u001b[39m▆\u001b[39m▃\u001b[39m▃\u001b[39m▄\u001b[39m▄\u001b[39m▃\u001b[39m▁\u001b[39m▁\u001b[39m▁\u001b[39m▁\u001b[39m▁\u001b[39m▁\u001b[39m▃\u001b[39m \u001b[39m▃\n",
              "  5.92 ms\u001b[90m         Histogram: frequency by time\u001b[39m        9.49 ms \u001b[0m\u001b[1m<\u001b[22m\n",
              "\n",
              " Memory estimate\u001b[90m: \u001b[39m\u001b[33m208 bytes\u001b[39m, allocs estimate\u001b[90m: \u001b[39m\u001b[33m8\u001b[39m."
            ]
          },
          "metadata": {},
          "execution_count": 4
        }
      ]
    },
    {
      "cell_type": "markdown",
      "source": [
        "# Iceflow"
      ],
      "metadata": {
        "id": "FaKUcsIuDOAF"
      }
    },
    {
      "cell_type": "code",
      "source": [
        "import Pkg; Pkg.add(\"JLD\")"
      ],
      "metadata": {
        "id": "stCrCxgHDlbK",
        "outputId": "97fd359e-2b1f-499e-b054-772c58ba6ab6",
        "colab": {
          "base_uri": "https://localhost:8080/"
        }
      },
      "execution_count": 34,
      "outputs": [
        {
          "output_type": "stream",
          "name": "stderr",
          "text": [
            "\u001b[32m\u001b[1m    Updating\u001b[22m\u001b[39m registry at `~/.julia/registries/General`\n",
            "\u001b[32m\u001b[1m   Resolving\u001b[22m\u001b[39m package versions...\n",
            "\u001b[32m\u001b[1m   Installed\u001b[22m\u001b[39m Lz4_jll ─── v1.9.3+0\n",
            "\u001b[32m\u001b[1m   Installed\u001b[22m\u001b[39m Blosc_jll ─ v1.21.1+0\n",
            "\u001b[32m\u001b[1m   Installed\u001b[22m\u001b[39m JLD ─────── v0.12.5\n",
            "\u001b[32m\u001b[1m   Installed\u001b[22m\u001b[39m HDF5_jll ── v1.12.0+1\n",
            "\u001b[32m\u001b[1m   Installed\u001b[22m\u001b[39m Blosc ───── v0.7.2\n",
            "\u001b[32m\u001b[1m   Installed\u001b[22m\u001b[39m HDF5 ────── v0.15.7\n",
            "\u001b[32m\u001b[1m   Installed\u001b[22m\u001b[39m FileIO ──── v1.11.2\n",
            "\u001b[32m\u001b[1m    Updating\u001b[22m\u001b[39m `~/.julia/environments/v1.6/Project.toml`\n",
            " \u001b[90m [4138dd39] \u001b[39m\u001b[92m+ JLD v0.12.5\u001b[39m\n",
            "\u001b[32m\u001b[1m    Updating\u001b[22m\u001b[39m `~/.julia/environments/v1.6/Manifest.toml`\n",
            " \u001b[90m [a74b3585] \u001b[39m\u001b[92m+ Blosc v0.7.2\u001b[39m\n",
            " \u001b[90m [5789e2e9] \u001b[39m\u001b[92m+ FileIO v1.11.2\u001b[39m\n",
            " \u001b[90m [f67ccb44] \u001b[39m\u001b[92m+ HDF5 v0.15.7\u001b[39m\n",
            " \u001b[90m [4138dd39] \u001b[39m\u001b[92m+ JLD v0.12.5\u001b[39m\n",
            " \u001b[90m [0b7ba130] \u001b[39m\u001b[92m+ Blosc_jll v1.21.1+0\u001b[39m\n",
            " \u001b[90m [0234f1f7] \u001b[39m\u001b[92m+ HDF5_jll v1.12.0+1\u001b[39m\n",
            " \u001b[90m [5ced341a] \u001b[39m\u001b[92m+ Lz4_jll v1.9.3+0\u001b[39m\n",
            "\u001b[32m\u001b[1m    Building\u001b[22m\u001b[39m HDF5 → `~/.julia/scratchspaces/44cfe95a-1eb2-52ea-b672-e2afdf69b78f/698c099c6613d7b7f151832868728f426abe698b/build.log`\n",
            "\u001b[32m\u001b[1mPrecompiling\u001b[22m\u001b[39m project...\n",
            "\u001b[32m  ✓ \u001b[39m\u001b[90mHDF5_jll\u001b[39m\n",
            "\u001b[32m  ✓ \u001b[39m\u001b[90mLz4_jll\u001b[39m\n",
            "\u001b[32m  ✓ \u001b[39m\u001b[90mBlosc_jll\u001b[39m\n",
            "\u001b[32m  ✓ \u001b[39m\u001b[90mFileIO\u001b[39m\n",
            "\u001b[32m  ✓ \u001b[39m\u001b[90mBlosc\u001b[39m\n",
            "\u001b[32m  ✓ \u001b[39m\u001b[90mHDF5\u001b[39m\n",
            "\u001b[32m  ✓ \u001b[39mJLD\n",
            "7 dependencies successfully precompiled in 10 seconds (143 already precompiled, 3 skipped during auto due to previous errors)\n"
          ]
        }
      ]
    },
    {
      "cell_type": "code",
      "source": [
        "# Shallow ice approximation (SIA) implicit solver for Greenland (steady state)\n",
        "\n",
        "using JLD, Plots, Printf, LinearAlgebra\n",
        "\n",
        "# enable plotting & saving by default\n",
        "if !@isdefined do_visu; do_visu = true end\n",
        "if !@isdefined do_save; do_save = true end\n",
        "\n",
        "# finite difference stencil operation support functions\n",
        "@views av(A)    = 0.25*(A[1:end-1,1:end-1].+A[2:end,1:end-1].+A[1:end-1,2:end].+A[2:end,2:end]) # average\n",
        "@views av_xa(A) = 0.5.*(A[1:end-1,:].+A[2:end,:]) # average x-dir\n",
        "@views av_ya(A) = 0.5.*(A[:,1:end-1].+A[:,2:end]) # average y-dir\n",
        "@views inn(A)   = A[2:end-1,2:end-1] # inner points\n",
        "\n",
        "@views function iceflow(dx, dy, Zbed, Hice, Mask, grad_b, z_ELA, b_max)\n",
        "    println(\"Initialising ice flow model ... \")\n",
        "    # physics\n",
        "    s2y      = 3600*24*365.25  # seconds to years\n",
        "    rho_i    = 910.0           # ice density\n",
        "    g        = 9.81            # gravity acceleration\n",
        "    npow     = 3.0             # Glen's power law exponent\n",
        "    a0       = 1.5e-24         # Glen's law enhancement term\n",
        "    # numerics\n",
        "    @assert (dx>0 && dy>0) \"dx and dy need to be positive\"\n",
        "    nx, ny   = size(Zbed,1), size(Zbed,2) # numerical grid resolution\n",
        "    @assert (nx, ny) == size(Zbed) == size(Hice) == size(Mask) \"Sizes don't match\"\n",
        "    itMax    = 1e5             # number of iteration (max)\n",
        "    nout     = 200             # error check frequency\n",
        "    tolnl    = 1e-6            # nonlinear tolerance\n",
        "    epsi     = 1e-4            # small number\n",
        "    damp     = 0.85            # convergence accelerator (this is a tuning parameter, dependent on e.g. grid resolution)\n",
        "    dtausc   = 1.0/3.0         # iterative dtau scaling\n",
        "    # derived physics\n",
        "    a        = 2.0*a0/(npow+2)*(rho_i*g)^npow*s2y\n",
        "    # derived numerics\n",
        "    cfl      = max(dx^2,dy^2)/4.1\n",
        "    # array initialization\n",
        "    Err      = zeros(nx  , ny  )\n",
        "    dSdx     = zeros(nx-1, ny  )\n",
        "    dSdy     = zeros(nx  , ny-1)\n",
        "    gradS    = zeros(nx-1, ny-1)\n",
        "    D        = zeros(nx-1, ny-1)\n",
        "    qHx      = zeros(nx-1, ny-2)\n",
        "    qHy      = zeros(nx-2, ny-1)\n",
        "    dtau     = zeros(nx-2, ny-2)\n",
        "    ResH     = zeros(nx-2, ny-2)\n",
        "    dHdt     = zeros(nx-2, ny-2)\n",
        "    Vx       = zeros(nx-1, ny-1)\n",
        "    Vy       = zeros(nx-1, ny-1)\n",
        "    M        = zeros(nx  , ny  )\n",
        "    B        = zeros(nx  , ny  )\n",
        "    H        = zeros(nx  , ny  )\n",
        "    S        = zeros(nx  , ny  )\n",
        "    # initial conditions\n",
        "    B       .= Zbed\n",
        "    H       .= Hice\n",
        "    S       .= B .+ H\n",
        "    # iteration loop\n",
        "    println(\" starting iteration loop:\")\n",
        "    iter = 1; err = 2*tolnl\n",
        "    while err>tolnl && iter<itMax\n",
        "        Err   .= H\n",
        "        # mass balance\n",
        "        M     .= min.(grad_b.*(S .- z_ELA), b_max)\n",
        "        # compute diffusivity\n",
        "        dSdx  .= diff(S, dims=1)/dx\n",
        "        dSdy  .= diff(S, dims=2)/dy\n",
        "        gradS .= sqrt.(av_ya(dSdx).^2 .+ av_xa(dSdy).^2)\n",
        "        D     .= a*av(H).^(npow+2) .* gradS.^(npow-1)\n",
        "        # compute flux\n",
        "        qHx   .= .-av_ya(D).*diff(S[:,2:end-1], dims=1)/dx\n",
        "        qHy   .= .-av_xa(D).*diff(S[2:end-1,:], dims=2)/dy\n",
        "        # update ice thickness\n",
        "        dtau  .= dtausc*min.(10.0, cfl./(epsi .+ av(D)))\n",
        "        ResH  .= .-(diff(qHx, dims=1)/dx .+ diff(qHy, dims=2)/dy) .+ inn(M)\n",
        "        dHdt  .= dHdt.*damp .+ ResH\n",
        "        H[2:end-1,2:end-1] .= max.(0.0, inn(H) .+ dtau.*dHdt)\n",
        "        # apply mask (a very poor-man's calving law)\n",
        "        H[Mask.==0] .= 0.0\n",
        "        # update surface\n",
        "        S     .= B .+ H\n",
        "        # error check\n",
        "        if mod(iter, nout)==0\n",
        "            Err .= Err .- H\n",
        "            err = norm(Err)/length(Err)\n",
        "            @printf(\" iter = %d, error = %1.2e \\n\", iter, err)\n",
        "            if isnan(err)\n",
        "                error(\"\"\"NaNs encountered.  Try a combination of:\n",
        "                             decreasing `damp` and/or `dtausc`, more smoothing steps\"\"\")\n",
        "            end\n",
        "        end\n",
        "        iter += 1\n",
        "    end\n",
        "    # compute velocities\n",
        "    Vx .= -D./(av(H) .+ epsi).*av_ya(dSdx)\n",
        "    Vy .= -D./(av(H) .+ epsi).*av_xa(dSdy)\n",
        "    # return as GeoArrays\n",
        "    return  as_geoarray(H,  Zbed, name=:thickness),\n",
        "            as_geoarray(S,  Zbed, name=:surface),\n",
        "            as_geoarray(M,  Zbed, name=:smb),\n",
        "            as_geoarray(Vx, Zbed, name=:vel_x, staggerd=true),\n",
        "            as_geoarray(Vy, Zbed, name=:vel_y, staggerd=true)\n",
        "end\n",
        "# ------------------------------------------------------------------------------\n",
        "include(joinpath(@__DIR__, \"helpers.jl\"))\n",
        "\n",
        "# load the data\n",
        "print(\"Loading the data ... \")\n",
        "Zbed, Hice, Mask, dx, dy, xc, yc = load_data(; nx=96) # nx=96,160 are included in the repo\n",
        "                                                      # other numbers will trigger a 2GB download\n",
        "println(\"done.\")\n",
        "\n",
        "# apply some smoothing\n",
        "print(\"Applying some smoothing ... \")\n",
        "for is=1:2 # two smoothing steps\n",
        "    smooth!(Zbed)\n",
        "    smooth!(Hice)\n",
        "end\n",
        "println(\"done.\")\n",
        "\n",
        "# calculate mass balance coefficients for given spatial grid\n",
        "grad_b, z_ELA, b_max = mass_balance_constants(xc, yc)\n",
        "\n",
        "# run the SIA flow model\n",
        "H, S, M, Vx, Vy = iceflow(dx, dy, Zbed, Hice, Mask, grad_b, z_ELA, b_max)\n",
        "\n",
        "\n",
        "# visualization and save\n",
        "nx, ny = size(H)\n",
        "if do_visu\n",
        "    !ispath(\"../output\") && mkdir(\"../output\")\n",
        "\n",
        "    H_v = copy(H); H_v[Mask.==0].=NaN\n",
        "    Hice_v = copy(Hice); Hice_v[Mask.==0].=NaN\n",
        "    S_v = copy(S); S_v[Mask.==0].=NaN\n",
        "    M_v = copy(M); M_v[Mask.==0].=NaN\n",
        "    V_v = sqrt.(Vx.^2 .+ Vy.^2)\n",
        "\n",
        "    # outputs\n",
        "    fontsize  = 7\n",
        "    opts = (aspect_ratio=1, yaxis=font(fontsize, \"Courier\"), xaxis=font(fontsize, \"Courier\"),\n",
        "            ticks=nothing, framestyle=:box, titlefontsize=fontsize, titlefont=\"Courier\", colorbar_title=\"\",\n",
        "            xlabel=\"\", ylabel=\"\", xlims=(dims(H_v)[1][1],dims(H_v)[1][end]), ylims=(dims(H_v)[2][end],dims(H_v)[2][1]) )\n",
        "    p1 = heatmap(S_v; c=:davos, title=\"Surface elev. [m]\", opts...)\n",
        "    p2 = heatmap(H_v; c=:davos, title=\"Ice thickness [m]\", opts...)\n",
        "    p3 = heatmap(log10.(V_v); clims=(0.1, 2.0), title=\"log10(vel) [m/yr]\", opts...)\n",
        "    p4 = heatmap(M_v; c=:devon, title=\"Mass Bal. rate [m/yr]\", opts...)\n",
        "    p = plot(p1, p2, p3, p4, size=(400,400), dpi=200) #background_color=:transparent, foreground_color=:white\n",
        "    ## uncomment if you want a pop-up plot pane showing:\n",
        "    # display(p)\n",
        "    savefig(\"../output/iceflow_out1.png\")\n",
        "\n",
        "    # error\n",
        "    H_diff = Hice_v.-H_v\n",
        "    fontsize = 7\n",
        "    p1 = heatmap(Hice_v; c=:davos, title=\"H data [m]\", opts...)\n",
        "    p2 = heatmap(H_v; c=:davos, title=\"H model [m]\", opts...)\n",
        "    clim = max(abs.(extrema(H_diff[.!isnan.(H_diff)]))...)\n",
        "    p3 = heatmap(H_diff; title=\"H (data-model) [m]\",  clims=(-clim,clim), seriescolor=:balance, opts...)\n",
        "    p = plot(p1, p2, p3, layout=(1, 3), size=(500,160), dpi=200) #background_color=:transparent, foreground_color=:white\n",
        "    ## uncomment if you want a pop-up plot pane showing:\n",
        "    # display(p)\n",
        "    savefig(\"../output/iceflow_out2.png\")\n",
        "end\n",
        "\n",
        "if do_save\n",
        "    save(\"../output/iceflow_$(nx)x$(ny).jld\", \"Hice\", Hice,\n",
        "                                              \"Mask\", Mask,\n",
        "                                              \"H\"   , H,\n",
        "                                              \"S\"   , S,\n",
        "                                              \"M\"   , M,\n",
        "                                              \"Vx\"  , Vx,\n",
        "                                              \"Vy\"  , Vy,\n",
        "                                              \"xc\", xc, \"yc\", yc)\n",
        "end\n",
        "\n",
        "println(\"... done.\")"
      ],
      "metadata": {
        "colab": {
          "base_uri": "https://localhost:8080/",
          "height": 583
        },
        "id": "KxUOU-gtB7P3",
        "outputId": "dc2c227a-f1f3-4954-c9c1-6e17e021af29"
      },
      "execution_count": 35,
      "outputs": [
        {
          "output_type": "error",
          "ename": "LoadError",
          "evalue": "ignored",
          "traceback": [
            "SystemError: opening file \"/content/helpers.jl\": No such file or directory",
            "",
            "Stacktrace:",
            "  [1] systemerror(p::String, errno::Int32; extrainfo::Nothing)",
            "    @ Base ./error.jl:168",
            "  [2] #systemerror#62",
            "    @ ./error.jl:167 [inlined]",
            "  [3] systemerror",
            "    @ ./error.jl:167 [inlined]",
            "  [4] open(fname::String; lock::Bool, read::Nothing, write::Nothing, create::Nothing, truncate::Nothing, append::Nothing)",
            "    @ Base ./iostream.jl:293",
            "  [5] open",
            "    @ ./iostream.jl:282 [inlined]",
            "  [6] open(f::Base.var\"#326#327\"{String}, args::String; kwargs::Base.Iterators.Pairs{Union{}, Union{}, Tuple{}, NamedTuple{(), Tuple{}}})",
            "    @ Base ./io.jl:328",
            "  [7] open",
            "    @ ./io.jl:328 [inlined]",
            "  [8] read",
            "    @ ./io.jl:434 [inlined]",
            "  [9] _include(mapexpr::Function, mod::Module, _path::String)",
            "    @ Base ./loading.jl:1144",
            " [10] include(fname::String)",
            "    @ Base.MainInclude ./client.jl:444",
            " [11] top-level scope",
            "    @ In[35]:105",
            " [12] eval",
            "    @ ./boot.jl:360 [inlined]",
            " [13] include_string(mapexpr::typeof(REPL.softscope), mod::Module, code::String, filename::String)",
            "    @ Base ./loading.jl:1094"
          ]
        }
      ]
    },
    {
      "cell_type": "code",
      "source": [
        ""
      ],
      "metadata": {
        "id": "KG7ZkWQHDeSV"
      },
      "execution_count": null,
      "outputs": []
    }
  ]
}