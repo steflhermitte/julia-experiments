{
  "nbformat": 4,
  "nbformat_minor": 0,
  "metadata": {
    "colab": {
      "name": "Julia_Colab_Notebook_Template.ipynb",
      "provenance": [],
      "collapsed_sections": [],
      "include_colab_link": true
    },
    "kernelspec": {
      "display_name": "Julia",
      "language": "julia",
      "name": "julia"
    },
    "language_info": {
      "file_extension": ".jl",
      "mimetype": "application/julia",
      "name": "julia"
    },
    "accelerator": "GPU"
  },
  "cells": [
    {
      "cell_type": "markdown",
      "metadata": {
        "id": "view-in-github",
        "colab_type": "text"
      },
      "source": [
        "<a href=\"https://colab.research.google.com/github/steflhermitte/julia-experiments/blob/main/JuliaParallel/Julia_1D_diffusion.ipynb\" target=\"_parent\"><img src=\"https://colab.research.google.com/assets/colab-badge.svg\" alt=\"Open In Colab\"/></a>"
      ]
    },
    {
      "cell_type": "markdown",
      "metadata": {
        "id": "tQ1r1bbb0yBv"
      },
      "source": [
        "# <img src=\"https://github.com/JuliaLang/julia-logo-graphics/raw/master/images/julia-logo-color.png\" height=\"100\" /> _1D Diffusion_\n",
        "\n",
        "<!-- ## Instructions\n",
        "1. Work on a copy of this notebook: _File_ > _Save a copy in Drive_ (you will need a Google account). Alternatively, you can download the notebook using _File_ > _Download .ipynb_, then upload it to [Colab](https://colab.research.google.com/).\n",
        "2. If you need a GPU: _Runtime_ > _Change runtime type_ > _Harware accelerator_ = _GPU_.\n",
        "3. Execute the following cell (click on it and press Ctrl+Enter) to install Julia, IJulia and other packages (if needed, update `JULIA_VERSION` and the other parameters). This takes a couple of minutes.\n",
        "4. Reload this page (press Ctrl+R, or ⌘+R, or the F5 key) and continue to the next section.\n",
        "\n",
        "_Notes_:\n",
        "* If your Colab Runtime gets reset (e.g., due to inactivity), repeat steps 2, 3 and 4.\n",
        "* After installation, if you want to change the Julia version or activate/deactivate the GPU, you will need to reset the Runtime: _Runtime_ > _Factory reset runtime_ and repeat steps 3 and 4. -->"
      ]
    },
    {
      "cell_type": "markdown",
      "source": [
        "# Install Julia GPU in Colab"
      ],
      "metadata": {
        "id": "ay8T2Req2bQP"
      }
    },
    {
      "cell_type": "code",
      "metadata": {
        "id": "GIeFXS0F0zww",
        "colab": {
          "base_uri": "https://localhost:8080/",
          "height": 87
        },
        "outputId": "da654ba1-7a3f-424f-cece-782bb5f631b5"
      },
      "source": [
        "%%shell\n",
        "set -e\n",
        "\n",
        "#---------------------------------------------------#\n",
        "JULIA_VERSION=\"1.6.0\" # any version ≥ 0.7.0\n",
        "JULIA_PACKAGES=\"IJulia BenchmarkTools Plots\"\n",
        "JULIA_PACKAGES_IF_GPU=\"CUDA\" # or CuArrays for older Julia versions\n",
        "JULIA_NUM_THREADS=2\n",
        "#---------------------------------------------------#\n",
        "\n",
        "if [ -n \"$COLAB_GPU\" ] && [ -z `which julia` ]; then\n",
        "  # Install Julia\n",
        "  JULIA_VER=`cut -d '.' -f -2 <<< \"$JULIA_VERSION\"`\n",
        "  echo \"Installing Julia $JULIA_VERSION on the current Colab Runtime...\"\n",
        "  BASE_URL=\"https://julialang-s3.julialang.org/bin/linux/x64\"\n",
        "  URL=\"$BASE_URL/$JULIA_VER/julia-$JULIA_VERSION-linux-x86_64.tar.gz\"\n",
        "  wget -nv $URL -O /tmp/julia.tar.gz # -nv means \"not verbose\"\n",
        "  tar -x -f /tmp/julia.tar.gz -C /usr/local --strip-components 1\n",
        "  rm /tmp/julia.tar.gz\n",
        "\n",
        "  # Install Packages\n",
        "  if [ \"$COLAB_GPU\" = \"1\" ]; then\n",
        "      JULIA_PACKAGES=\"$JULIA_PACKAGES $JULIA_PACKAGES_IF_GPU\"\n",
        "  fi\n",
        "  for PKG in `echo $JULIA_PACKAGES`; do\n",
        "    echo \"Installing Julia package $PKG...\"\n",
        "    julia -e 'using Pkg; pkg\"add '$PKG'; precompile;\"' &> /dev/null\n",
        "  done\n",
        "\n",
        "  # Install kernel and rename it to \"julia\"\n",
        "  echo \"Installing IJulia kernel...\"\n",
        "  julia -e 'using IJulia; IJulia.installkernel(\"julia\", env=Dict(\n",
        "      \"JULIA_NUM_THREADS\"=>\"'\"$JULIA_NUM_THREADS\"'\"))'\n",
        "  KERNEL_DIR=`julia -e \"using IJulia; print(IJulia.kerneldir())\"`\n",
        "  KERNEL_NAME=`ls -d \"$KERNEL_DIR\"/julia*`\n",
        "  mv -f $KERNEL_NAME \"$KERNEL_DIR\"/julia  \n",
        "\n",
        "  echo ''\n",
        "  echo \"Success! Please reload this page and jump to the next section.\"\n",
        "fi"
      ],
      "execution_count": 1,
      "outputs": [
        {
          "output_type": "display_data",
          "data": {
            "text/latex": "Unrecognized magic \\texttt{\\%\\%shell}.\n\nJulia does not use the IPython \\texttt{\\%magic} syntax.   To interact with the IJulia kernel, use \\texttt{IJulia.somefunction(...)}, for example.  Julia macros, string macros, and functions can be used to accomplish most of the other functionalities of IPython magics.\n\n",
            "text/markdown": "Unrecognized magic `%%shell`.\n\nJulia does not use the IPython `%magic` syntax.   To interact with the IJulia kernel, use `IJulia.somefunction(...)`, for example.  Julia macros, string macros, and functions can be used to accomplish most of the other functionalities of IPython magics.\n",
            "text/plain": [
              "  Unrecognized magic \u001b[36m%%shell\u001b[39m.\n",
              "\n",
              "  Julia does not use the IPython \u001b[36m%magic\u001b[39m syntax. To interact with the IJulia\n",
              "  kernel, use \u001b[36mIJulia.somefunction(...)\u001b[39m, for example. Julia macros, string\n",
              "  macros, and functions can be used to accomplish most of the other\n",
              "  functionalities of IPython magics."
            ]
          },
          "metadata": {}
        }
      ]
    },
    {
      "cell_type": "markdown",
      "metadata": {
        "id": "-OS3Ac017T1i"
      },
      "source": [
        "# Checking the Installation\n",
        "The `versioninfo()` function should print your Julia version and some other info about the system:"
      ]
    },
    {
      "cell_type": "code",
      "metadata": {
        "id": "EEzvvzCl1i0F",
        "colab": {
          "base_uri": "https://localhost:8080/"
        },
        "outputId": "d8802119-9257-4ad3-8bbf-9bd9f5d697ee"
      },
      "source": [
        "versioninfo()"
      ],
      "execution_count": 2,
      "outputs": [
        {
          "output_type": "stream",
          "name": "stdout",
          "text": [
            "Julia Version 1.6.0\n",
            "Commit f9720dc2eb (2021-03-24 12:55 UTC)\n",
            "Platform Info:\n",
            "  OS: Linux (x86_64-pc-linux-gnu)\n",
            "  CPU: Intel(R) Xeon(R) CPU @ 2.30GHz\n",
            "  WORD_SIZE: 64\n",
            "  LIBM: libopenlibm\n",
            "  LLVM: libLLVM-11.0.1 (ORCJIT, haswell)\n",
            "Environment:\n",
            "  JULIA_NUM_THREADS = 2\n"
          ]
        }
      ]
    },
    {
      "cell_type": "code",
      "metadata": {
        "id": "yQlpeR9wNOi8",
        "colab": {
          "base_uri": "https://localhost:8080/"
        },
        "outputId": "74f36a14-1164-4c93-c23f-5fddc5ed0003"
      },
      "source": [
        "using BenchmarkTools\n",
        "\n",
        "M = rand(2048, 2048)\n",
        "@benchmark M^2"
      ],
      "execution_count": 3,
      "outputs": [
        {
          "output_type": "execute_result",
          "data": {
            "text/plain": [
              "BenchmarkTools.Trial: 10 samples with 1 evaluation.\n",
              " Range \u001b[90m(\u001b[39m\u001b[36m\u001b[1mmin\u001b[22m\u001b[39m … \u001b[35mmax\u001b[39m\u001b[90m):  \u001b[39m\u001b[36m\u001b[1m479.830 ms\u001b[22m\u001b[39m … \u001b[35m621.322 ms\u001b[39m  \u001b[90m┊\u001b[39m GC \u001b[90m(\u001b[39mmin … max\u001b[90m): \u001b[39m0.19% … 18.29%\n",
              " Time  \u001b[90m(\u001b[39m\u001b[34m\u001b[1mmedian\u001b[22m\u001b[39m\u001b[90m):     \u001b[39m\u001b[34m\u001b[1m499.648 ms               \u001b[22m\u001b[39m\u001b[90m┊\u001b[39m GC \u001b[90m(\u001b[39mmedian\u001b[90m):    \u001b[39m0.09%\n",
              " Time  \u001b[90m(\u001b[39m\u001b[32m\u001b[1mmean\u001b[22m\u001b[39m ± \u001b[32mσ\u001b[39m\u001b[90m):   \u001b[39m\u001b[32m\u001b[1m519.145 ms\u001b[22m\u001b[39m ± \u001b[32m 49.055 ms\u001b[39m  \u001b[90m┊\u001b[39m GC \u001b[90m(\u001b[39mmean ± σ\u001b[90m):  \u001b[39m4.51% ±  7.06%\n",
              "\n",
              "  \u001b[39m▁\u001b[39m \u001b[39m \u001b[39m \u001b[39m▁\u001b[39m█\u001b[39m▁\u001b[34m \u001b[39m\u001b[39m \u001b[39m \u001b[39m█\u001b[39m \u001b[39m \u001b[39m▁\u001b[39m \u001b[39m \u001b[39m \u001b[32m \u001b[39m\u001b[39m \u001b[39m \u001b[39m \u001b[39m \u001b[39m \u001b[39m \u001b[39m \u001b[39m \u001b[39m \u001b[39m \u001b[39m \u001b[39m \u001b[39m \u001b[39m \u001b[39m \u001b[39m \u001b[39m \u001b[39m \u001b[39m \u001b[39m \u001b[39m \u001b[39m \u001b[39m \u001b[39m \u001b[39m \u001b[39m \u001b[39m \u001b[39m \u001b[39m \u001b[39m \u001b[39m \u001b[39m \u001b[39m \u001b[39m▁\u001b[39m \u001b[39m \u001b[39m \u001b[39m \u001b[39m \u001b[39m \u001b[39m \u001b[39m \u001b[39m▁\u001b[39m \u001b[39m \n",
              "  \u001b[39m█\u001b[39m▁\u001b[39m▁\u001b[39m▁\u001b[39m█\u001b[39m█\u001b[39m█\u001b[34m▁\u001b[39m\u001b[39m▁\u001b[39m▁\u001b[39m█\u001b[39m▁\u001b[39m▁\u001b[39m█\u001b[39m▁\u001b[39m▁\u001b[39m▁\u001b[32m▁\u001b[39m\u001b[39m▁\u001b[39m▁\u001b[39m▁\u001b[39m▁\u001b[39m▁\u001b[39m▁\u001b[39m▁\u001b[39m▁\u001b[39m▁\u001b[39m▁\u001b[39m▁\u001b[39m▁\u001b[39m▁\u001b[39m▁\u001b[39m▁\u001b[39m▁\u001b[39m▁\u001b[39m▁\u001b[39m▁\u001b[39m▁\u001b[39m▁\u001b[39m▁\u001b[39m▁\u001b[39m▁\u001b[39m▁\u001b[39m▁\u001b[39m▁\u001b[39m▁\u001b[39m▁\u001b[39m▁\u001b[39m▁\u001b[39m▁\u001b[39m▁\u001b[39m█\u001b[39m▁\u001b[39m▁\u001b[39m▁\u001b[39m▁\u001b[39m▁\u001b[39m▁\u001b[39m▁\u001b[39m▁\u001b[39m█\u001b[39m \u001b[39m▁\n",
              "  480 ms\u001b[90m           Histogram: frequency by time\u001b[39m          621 ms \u001b[0m\u001b[1m<\u001b[22m\n",
              "\n",
              " Memory estimate\u001b[90m: \u001b[39m\u001b[33m32.00 MiB\u001b[39m, allocs estimate\u001b[90m: \u001b[39m\u001b[33m2\u001b[39m."
            ]
          },
          "metadata": {},
          "execution_count": 3
        }
      ]
    },
    {
      "cell_type": "code",
      "metadata": {
        "id": "XciCcMAJOT3_",
        "colab": {
          "base_uri": "https://localhost:8080/"
        },
        "outputId": "67611d5c-b8bc-4e59-ba38-eb970db94c30"
      },
      "source": [
        "if ENV[\"COLAB_GPU\"] == \"1\"\n",
        "    using CUDA\n",
        "\n",
        "    M_gpu = cu(M)\n",
        "    @benchmark CUDA.@sync M_gpu^2\n",
        "else\n",
        "    println(\"No GPU found.\")\n",
        "end"
      ],
      "execution_count": 4,
      "outputs": [
        {
          "output_type": "stream",
          "name": "stderr",
          "text": [
            "\u001b[32m\u001b[1m Downloading\u001b[22m\u001b[39m artifact: CUDA_compat\n",
            "\u001b[32m\u001b[1m Downloading\u001b[22m\u001b[39m artifact: CUDA\n"
          ]
        },
        {
          "output_type": "execute_result",
          "data": {
            "text/plain": [
              "BenchmarkTools.Trial: 603 samples with 1 evaluation.\n",
              " Range \u001b[90m(\u001b[39m\u001b[36m\u001b[1mmin\u001b[22m\u001b[39m … \u001b[35mmax\u001b[39m\u001b[90m):  \u001b[39m\u001b[36m\u001b[1m5.924 ms\u001b[22m\u001b[39m … \u001b[35m 10.744 ms\u001b[39m  \u001b[90m┊\u001b[39m GC \u001b[90m(\u001b[39mmin … max\u001b[90m): \u001b[39m0.00% … 0.00%\n",
              " Time  \u001b[90m(\u001b[39m\u001b[34m\u001b[1mmedian\u001b[22m\u001b[39m\u001b[90m):     \u001b[39m\u001b[34m\u001b[1m8.293 ms               \u001b[22m\u001b[39m\u001b[90m┊\u001b[39m GC \u001b[90m(\u001b[39mmedian\u001b[90m):    \u001b[39m0.00%\n",
              " Time  \u001b[90m(\u001b[39m\u001b[32m\u001b[1mmean\u001b[22m\u001b[39m ± \u001b[32mσ\u001b[39m\u001b[90m):   \u001b[39m\u001b[32m\u001b[1m8.284 ms\u001b[22m\u001b[39m ± \u001b[32m564.265 μs\u001b[39m  \u001b[90m┊\u001b[39m GC \u001b[90m(\u001b[39mmean ± σ\u001b[90m):  \u001b[39m0.00% ± 0.00%\n",
              "\n",
              "  \u001b[39m \u001b[39m \u001b[39m \u001b[39m \u001b[39m \u001b[39m \u001b[39m \u001b[39m \u001b[39m \u001b[39m \u001b[39m \u001b[39m \u001b[39m \u001b[39m \u001b[39m \u001b[39m \u001b[39m \u001b[39m \u001b[39m \u001b[39m \u001b[39m \u001b[39m \u001b[39m \u001b[39m \u001b[39m \u001b[39m \u001b[39m \u001b[39m \u001b[39m \u001b[39m \u001b[39m \u001b[39m \u001b[39m \u001b[39m \u001b[39m▅\u001b[39m█\u001b[39m \u001b[39m▃\u001b[39m▁\u001b[34m \u001b[39m\u001b[39m \u001b[39m \u001b[39m▇\u001b[39m▂\u001b[39m \u001b[39m▃\u001b[39m \u001b[39m \u001b[39m \u001b[39m \u001b[39m \u001b[39m \u001b[39m \u001b[39m \u001b[39m \u001b[39m \u001b[39m \u001b[39m \u001b[39m \u001b[39m \u001b[39m \n",
              "  \u001b[39m▄\u001b[39m▁\u001b[39m▁\u001b[39m▂\u001b[39m▁\u001b[39m▃\u001b[39m▃\u001b[39m▂\u001b[39m▁\u001b[39m▁\u001b[39m▁\u001b[39m▁\u001b[39m▁\u001b[39m▂\u001b[39m▃\u001b[39m▂\u001b[39m▁\u001b[39m▂\u001b[39m▁\u001b[39m▁\u001b[39m▂\u001b[39m▁\u001b[39m▂\u001b[39m▁\u001b[39m▁\u001b[39m▁\u001b[39m▁\u001b[39m▁\u001b[39m▁\u001b[39m▁\u001b[39m▁\u001b[39m▁\u001b[39m▁\u001b[39m▂\u001b[39m█\u001b[39m█\u001b[39m▇\u001b[39m█\u001b[39m█\u001b[34m▄\u001b[39m\u001b[39m▇\u001b[39m▄\u001b[39m█\u001b[39m█\u001b[39m▅\u001b[39m█\u001b[39m▆\u001b[39m▃\u001b[39m▃\u001b[39m▄\u001b[39m▄\u001b[39m▃\u001b[39m▁\u001b[39m▁\u001b[39m▁\u001b[39m▁\u001b[39m▁\u001b[39m▁\u001b[39m▃\u001b[39m \u001b[39m▃\n",
              "  5.92 ms\u001b[90m         Histogram: frequency by time\u001b[39m        9.49 ms \u001b[0m\u001b[1m<\u001b[22m\n",
              "\n",
              " Memory estimate\u001b[90m: \u001b[39m\u001b[33m208 bytes\u001b[39m, allocs estimate\u001b[90m: \u001b[39m\u001b[33m8\u001b[39m."
            ]
          },
          "metadata": {},
          "execution_count": 4
        }
      ]
    },
    {
      "cell_type": "markdown",
      "source": [
        "# 1D Diffusion\n",
        "From https://github.com/luraess/julia-parallel-course-EGU21/tree/main/scripts"
      ],
      "metadata": {
        "id": "KBYfom-_4L46"
      }
    },
    {
      "cell_type": "code",
      "source": [
        "using Plots, Printf, LinearAlgebra\n",
        "\n",
        "# enable plotting by default\n",
        "if !@isdefined do_visu; do_visu = true end"
      ],
      "metadata": {
        "id": "4Dt2z3YZ3uW1",
        "outputId": "5d3ce037-b029-4987-b237-a892fddca0cd",
        "colab": {
          "base_uri": "https://localhost:8080/"
        }
      },
      "execution_count": 6,
      "outputs": [
        {
          "output_type": "execute_result",
          "data": {
            "text/plain": [
              "true"
            ]
          },
          "metadata": {},
          "execution_count": 6
        }
      ]
    },
    {
      "cell_type": "code",
      "source": [
        "# https://github.com/luraess/julia-parallel-course-EGU21/blob/main/scripts/diffusion_1D_impl.jl\n",
        "\n",
        "@views function diffusion_1D(; do_visu=true)\n",
        "    # Physics\n",
        "    lx     = 10.0       # domain size\n",
        "    D      = 1.0       # diffusion coefficient\n",
        "    ttot   = 1.6        # total simulation time\n",
        "    dt     = 0.1        # physical time step\n",
        "    # Numerics\n",
        "    nx     = 256        # numerical grid resolution\n",
        "    tol    = 1e-6       # tolerance\n",
        "    itMax  = 1e5        # max number of iterations\n",
        "    # Derived numerics\n",
        "    dx     = lx/nx      # grid size\n",
        "    dtau   = (1.0/(dx^2/D/2.1) + 1.0/dt)^-1 # iterative \"timestep\"\n",
        "    xc     = LinRange(dx/2, lx-dx/2, nx)\n",
        "    # Array allocation\n",
        "    qH     = zeros(nx-1)\n",
        "    dHdtau = zeros(nx-2)\n",
        "    ResH   = zeros(nx-2)\n",
        "    # Initial condition\n",
        "    H0     = exp.(-(xc.-lx/2).^2)\n",
        "    Hold   = copy(H0)\n",
        "    H      = copy(H0)\n",
        "    t = 0.0; it = 0; ittot = 0\n",
        "    # Physical time loop\n",
        "    while t<ttot\n",
        "        iter = 0; err = 2*tol\n",
        "        # Picard-type iteration\n",
        "        while err>tol && iter<itMax\n",
        "            qH         .= -D*diff(H)/dx              # flux\n",
        "            ResH       .= -(H[2:end-1] - Hold[2:end-1])/dt - diff(qH)/dx # residual of the PDE\n",
        "            dHdtau     .= ResH                       # rate of change\n",
        "            H[2:end-1] .= H[2:end-1] + dtau*dHdtau   # update rule, sets the BC as H[1]=H[end]=0\n",
        "            iter += 1; err = norm(ResH)/length(ResH)\n",
        "        end\n",
        "        ittot += iter; it += 1; t += dt\n",
        "        Hold .= H\n",
        "    end\n",
        "    # Analytic solution\n",
        "    Hana = 1/sqrt(4*(ttot+1/4)) * exp.(-(xc.-lx/2).^2 /(4*(ttot+1/4)))\n",
        "    @printf(\"Total time = %1.2f, time steps = %d, iterations tot = %d, error vs analytic = %1.2e \\n\", round(ttot, sigdigits=2), it, ittot, norm(H-Hana))\n",
        "    # Visualize\n",
        "    if do_visu\n",
        "        plot(xc, H0, linewidth=3); display(plot!(xc, H, legend=false, framestyle=:box, linewidth=3, xlabel=\"lx\", ylabel=\"H\", title=\"implicit diffusion (nt=$it, iters=$ittot)\"))\n",
        "    end\n",
        "    return xc, H0\n",
        "end\n"
      ],
      "metadata": {
        "id": "1ROfodys417V",
        "outputId": "7c6a83ff-341d-4048-dbda-d9694afdae92",
        "colab": {
          "base_uri": "https://localhost:8080/"
        }
      },
      "execution_count": 16,
      "outputs": [
        {
          "output_type": "execute_result",
          "data": {
            "text/plain": [
              "diffusion_1D (generic function with 1 method)"
            ]
          },
          "metadata": {},
          "execution_count": 16
        }
      ]
    },
    {
      "cell_type": "code",
      "source": [
        "diffusion_1D(; do_visu=do_visu);"
      ],
      "metadata": {
        "id": "veWsC_b04y-n",
        "outputId": "90115153-ff02-429a-fa84-8f9953036202",
        "colab": {
          "base_uri": "https://localhost:8080/",
          "height": 439
        }
      },
      "execution_count": 17,
      "outputs": [
        {
          "output_type": "display_data",
          "data": {
            "image/svg+xml": "<?xml version=\"1.0\" encoding=\"utf-8\"?>\n<svg xmlns=\"http://www.w3.org/2000/svg\" xmlns:xlink=\"http://www.w3.org/1999/xlink\" width=\"600\" height=\"400\" viewBox=\"0 0 2400 1600\">\n<defs>\n  <clipPath id=\"clip550\">\n    <rect x=\"0\" y=\"0\" width=\"2400\" height=\"1600\"/>\n  </clipPath>\n</defs>\n<path clip-path=\"url(#clip550)\" d=\"\nM0 1600 L2400 1600 L2400 0 L0 0  Z\n  \" fill=\"#ffffff\" fill-rule=\"evenodd\" fill-opacity=\"1\"/>\n<defs>\n  <clipPath id=\"clip551\">\n    <rect x=\"480\" y=\"0\" width=\"1681\" height=\"1600\"/>\n  </clipPath>\n</defs>\n<path clip-path=\"url(#clip550)\" d=\"\nM249.542 1423.18 L2352.76 1423.18 L2352.76 123.472 L249.542 123.472  Z\n  \" fill=\"#ffffff\" fill-rule=\"evenodd\" fill-opacity=\"1\"/>\n<defs>\n  <clipPath id=\"clip552\">\n    <rect x=\"249\" y=\"123\" width=\"2104\" height=\"1301\"/>\n  </clipPath>\n</defs>\n<polyline clip-path=\"url(#clip552)\" style=\"stroke:#000000; stroke-linecap:butt; stroke-linejoin:round; stroke-width:2; stroke-opacity:0.1; fill:none\" points=\"\n  305.176,1423.18 305.176,123.472 \n  \"/>\n<polyline clip-path=\"url(#clip552)\" style=\"stroke:#000000; stroke-linecap:butt; stroke-linejoin:round; stroke-width:2; stroke-opacity:0.1; fill:none\" points=\"\n  803.163,1423.18 803.163,123.472 \n  \"/>\n<polyline clip-path=\"url(#clip552)\" style=\"stroke:#000000; stroke-linecap:butt; stroke-linejoin:round; stroke-width:2; stroke-opacity:0.1; fill:none\" points=\"\n  1301.15,1423.18 1301.15,123.472 \n  \"/>\n<polyline clip-path=\"url(#clip552)\" style=\"stroke:#000000; stroke-linecap:butt; stroke-linejoin:round; stroke-width:2; stroke-opacity:0.1; fill:none\" points=\"\n  1799.14,1423.18 1799.14,123.472 \n  \"/>\n<polyline clip-path=\"url(#clip552)\" style=\"stroke:#000000; stroke-linecap:butt; stroke-linejoin:round; stroke-width:2; stroke-opacity:0.1; fill:none\" points=\"\n  2297.12,1423.18 2297.12,123.472 \n  \"/>\n<polyline clip-path=\"url(#clip550)\" style=\"stroke:#000000; stroke-linecap:butt; stroke-linejoin:round; stroke-width:4; stroke-opacity:1; fill:none\" points=\"\n  249.542,1423.18 2352.76,1423.18 \n  \"/>\n<polyline clip-path=\"url(#clip550)\" style=\"stroke:#000000; stroke-linecap:butt; stroke-linejoin:round; stroke-width:4; stroke-opacity:1; fill:none\" points=\"\n  249.542,123.472 2352.76,123.472 \n  \"/>\n<polyline clip-path=\"url(#clip550)\" style=\"stroke:#000000; stroke-linecap:butt; stroke-linejoin:round; stroke-width:4; stroke-opacity:1; fill:none\" points=\"\n  305.176,1423.18 305.176,1404.28 \n  \"/>\n<polyline clip-path=\"url(#clip550)\" style=\"stroke:#000000; stroke-linecap:butt; stroke-linejoin:round; stroke-width:4; stroke-opacity:1; fill:none\" points=\"\n  803.163,1423.18 803.163,1404.28 \n  \"/>\n<polyline clip-path=\"url(#clip550)\" style=\"stroke:#000000; stroke-linecap:butt; stroke-linejoin:round; stroke-width:4; stroke-opacity:1; fill:none\" points=\"\n  1301.15,1423.18 1301.15,1404.28 \n  \"/>\n<polyline clip-path=\"url(#clip550)\" style=\"stroke:#000000; stroke-linecap:butt; stroke-linejoin:round; stroke-width:4; stroke-opacity:1; fill:none\" points=\"\n  1799.14,1423.18 1799.14,1404.28 \n  \"/>\n<polyline clip-path=\"url(#clip550)\" style=\"stroke:#000000; stroke-linecap:butt; stroke-linejoin:round; stroke-width:4; stroke-opacity:1; fill:none\" points=\"\n  2297.12,1423.18 2297.12,1404.28 \n  \"/>\n<path clip-path=\"url(#clip550)\" d=\"M282.561 1454.1 Q278.95 1454.1 277.121 1457.66 Q275.315 1461.2 275.315 1468.33 Q275.315 1475.44 277.121 1479.01 Q278.95 1482.55 282.561 1482.55 Q286.195 1482.55 288.001 1479.01 Q289.829 1475.44 289.829 1468.33 Q289.829 1461.2 288.001 1457.66 Q286.195 1454.1 282.561 1454.1 M282.561 1450.39 Q288.371 1450.39 291.427 1455 Q294.505 1459.58 294.505 1468.33 Q294.505 1477.06 291.427 1481.67 Q288.371 1486.25 282.561 1486.25 Q276.751 1486.25 273.672 1481.67 Q270.616 1477.06 270.616 1468.33 Q270.616 1459.58 273.672 1455 Q276.751 1450.39 282.561 1450.39 Z\" fill=\"#000000\" fill-rule=\"evenodd\" fill-opacity=\"1\" /><path clip-path=\"url(#clip550)\" d=\"M302.723 1479.7 L307.607 1479.7 L307.607 1485.58 L302.723 1485.58 L302.723 1479.7 Z\" fill=\"#000000\" fill-rule=\"evenodd\" fill-opacity=\"1\" /><path clip-path=\"url(#clip550)\" d=\"M327.792 1454.1 Q324.181 1454.1 322.352 1457.66 Q320.547 1461.2 320.547 1468.33 Q320.547 1475.44 322.352 1479.01 Q324.181 1482.55 327.792 1482.55 Q331.426 1482.55 333.232 1479.01 Q335.061 1475.44 335.061 1468.33 Q335.061 1461.2 333.232 1457.66 Q331.426 1454.1 327.792 1454.1 M327.792 1450.39 Q333.602 1450.39 336.658 1455 Q339.736 1459.58 339.736 1468.33 Q339.736 1477.06 336.658 1481.67 Q333.602 1486.25 327.792 1486.25 Q321.982 1486.25 318.903 1481.67 Q315.848 1477.06 315.848 1468.33 Q315.848 1459.58 318.903 1455 Q321.982 1450.39 327.792 1450.39 Z\" fill=\"#000000\" fill-rule=\"evenodd\" fill-opacity=\"1\" /><path clip-path=\"url(#clip550)\" d=\"M774.899 1481.64 L791.218 1481.64 L791.218 1485.58 L769.274 1485.58 L769.274 1481.64 Q771.936 1478.89 776.519 1474.26 Q781.126 1469.61 782.306 1468.27 Q784.552 1465.74 785.431 1464.01 Q786.334 1462.25 786.334 1460.56 Q786.334 1457.8 784.39 1456.07 Q782.468 1454.33 779.367 1454.33 Q777.167 1454.33 774.714 1455.09 Q772.283 1455.86 769.505 1457.41 L769.505 1452.69 Q772.33 1451.55 774.783 1450.97 Q777.237 1450.39 779.274 1450.39 Q784.644 1450.39 787.839 1453.08 Q791.033 1455.77 791.033 1460.26 Q791.033 1462.39 790.223 1464.31 Q789.436 1466.2 787.329 1468.8 Q786.751 1469.47 783.649 1472.69 Q780.547 1475.88 774.899 1481.64 Z\" fill=\"#000000\" fill-rule=\"evenodd\" fill-opacity=\"1\" /><path clip-path=\"url(#clip550)\" d=\"M801.033 1479.7 L805.917 1479.7 L805.917 1485.58 L801.033 1485.58 L801.033 1479.7 Z\" fill=\"#000000\" fill-rule=\"evenodd\" fill-opacity=\"1\" /><path clip-path=\"url(#clip550)\" d=\"M816.149 1451.02 L834.505 1451.02 L834.505 1454.96 L820.431 1454.96 L820.431 1463.43 Q821.45 1463.08 822.468 1462.92 Q823.487 1462.73 824.505 1462.73 Q830.292 1462.73 833.672 1465.9 Q837.051 1469.08 837.051 1474.49 Q837.051 1480.07 833.579 1483.17 Q830.107 1486.25 823.788 1486.25 Q821.612 1486.25 819.343 1485.88 Q817.098 1485.51 814.69 1484.77 L814.69 1480.07 Q816.774 1481.2 818.996 1481.76 Q821.218 1482.32 823.695 1482.32 Q827.7 1482.32 830.038 1480.21 Q832.376 1478.1 832.376 1474.49 Q832.376 1470.88 830.038 1468.77 Q827.7 1466.67 823.695 1466.67 Q821.82 1466.67 819.945 1467.08 Q818.093 1467.5 816.149 1468.38 L816.149 1451.02 Z\" fill=\"#000000\" fill-rule=\"evenodd\" fill-opacity=\"1\" /><path clip-path=\"url(#clip550)\" d=\"M1268.31 1451.02 L1286.67 1451.02 L1286.67 1454.96 L1272.6 1454.96 L1272.6 1463.43 Q1273.61 1463.08 1274.63 1462.92 Q1275.65 1462.73 1276.67 1462.73 Q1282.46 1462.73 1285.84 1465.9 Q1289.22 1469.08 1289.22 1474.49 Q1289.22 1480.07 1285.74 1483.17 Q1282.27 1486.25 1275.95 1486.25 Q1273.78 1486.25 1271.51 1485.88 Q1269.26 1485.51 1266.86 1484.77 L1266.86 1480.07 Q1268.94 1481.2 1271.16 1481.76 Q1273.38 1482.32 1275.86 1482.32 Q1279.86 1482.32 1282.2 1480.21 Q1284.54 1478.1 1284.54 1474.49 Q1284.54 1470.88 1282.2 1468.77 Q1279.86 1466.67 1275.86 1466.67 Q1273.98 1466.67 1272.11 1467.08 Q1270.26 1467.5 1268.31 1468.38 L1268.31 1451.02 Z\" fill=\"#000000\" fill-rule=\"evenodd\" fill-opacity=\"1\" /><path clip-path=\"url(#clip550)\" d=\"M1298.43 1479.7 L1303.31 1479.7 L1303.31 1485.58 L1298.43 1485.58 L1298.43 1479.7 Z\" fill=\"#000000\" fill-rule=\"evenodd\" fill-opacity=\"1\" /><path clip-path=\"url(#clip550)\" d=\"M1323.5 1454.1 Q1319.89 1454.1 1318.06 1457.66 Q1316.25 1461.2 1316.25 1468.33 Q1316.25 1475.44 1318.06 1479.01 Q1319.89 1482.55 1323.5 1482.55 Q1327.13 1482.55 1328.94 1479.01 Q1330.77 1475.44 1330.77 1468.33 Q1330.77 1461.2 1328.94 1457.66 Q1327.13 1454.1 1323.5 1454.1 M1323.5 1450.39 Q1329.31 1450.39 1332.36 1455 Q1335.44 1459.58 1335.44 1468.33 Q1335.44 1477.06 1332.36 1481.67 Q1329.31 1486.25 1323.5 1486.25 Q1317.69 1486.25 1314.61 1481.67 Q1311.55 1477.06 1311.55 1468.33 Q1311.55 1459.58 1314.61 1455 Q1317.69 1450.39 1323.5 1450.39 Z\" fill=\"#000000\" fill-rule=\"evenodd\" fill-opacity=\"1\" /><path clip-path=\"url(#clip550)\" d=\"M1765.45 1451.02 L1787.68 1451.02 L1787.68 1453.01 L1775.13 1485.58 L1770.25 1485.58 L1782.05 1454.96 L1765.45 1454.96 L1765.45 1451.02 Z\" fill=\"#000000\" fill-rule=\"evenodd\" fill-opacity=\"1\" /><path clip-path=\"url(#clip550)\" d=\"M1796.8 1479.7 L1801.68 1479.7 L1801.68 1485.58 L1796.8 1485.58 L1796.8 1479.7 Z\" fill=\"#000000\" fill-rule=\"evenodd\" fill-opacity=\"1\" /><path clip-path=\"url(#clip550)\" d=\"M1811.91 1451.02 L1830.27 1451.02 L1830.27 1454.96 L1816.2 1454.96 L1816.2 1463.43 Q1817.21 1463.08 1818.23 1462.92 Q1819.25 1462.73 1820.27 1462.73 Q1826.06 1462.73 1829.44 1465.9 Q1832.82 1469.08 1832.82 1474.49 Q1832.82 1480.07 1829.34 1483.17 Q1825.87 1486.25 1819.55 1486.25 Q1817.38 1486.25 1815.11 1485.88 Q1812.86 1485.51 1810.45 1484.77 L1810.45 1480.07 Q1812.54 1481.2 1814.76 1481.76 Q1816.98 1482.32 1819.46 1482.32 Q1823.46 1482.32 1825.8 1480.21 Q1828.14 1478.1 1828.14 1474.49 Q1828.14 1470.88 1825.8 1468.77 Q1823.46 1466.67 1819.46 1466.67 Q1817.58 1466.67 1815.71 1467.08 Q1813.86 1467.5 1811.91 1468.38 L1811.91 1451.02 Z\" fill=\"#000000\" fill-rule=\"evenodd\" fill-opacity=\"1\" /><path clip-path=\"url(#clip550)\" d=\"M2249.19 1481.64 L2256.83 1481.64 L2256.83 1455.28 L2248.52 1456.95 L2248.52 1452.69 L2256.79 1451.02 L2261.46 1451.02 L2261.46 1481.64 L2269.1 1481.64 L2269.1 1485.58 L2249.19 1485.58 L2249.19 1481.64 Z\" fill=\"#000000\" fill-rule=\"evenodd\" fill-opacity=\"1\" /><path clip-path=\"url(#clip550)\" d=\"M2288.55 1454.1 Q2284.93 1454.1 2283.11 1457.66 Q2281.3 1461.2 2281.3 1468.33 Q2281.3 1475.44 2283.11 1479.01 Q2284.93 1482.55 2288.55 1482.55 Q2292.18 1482.55 2293.98 1479.01 Q2295.81 1475.44 2295.81 1468.33 Q2295.81 1461.2 2293.98 1457.66 Q2292.18 1454.1 2288.55 1454.1 M2288.55 1450.39 Q2294.36 1450.39 2297.41 1455 Q2300.49 1459.58 2300.49 1468.33 Q2300.49 1477.06 2297.41 1481.67 Q2294.36 1486.25 2288.55 1486.25 Q2282.74 1486.25 2279.66 1481.67 Q2276.6 1477.06 2276.6 1468.33 Q2276.6 1459.58 2279.66 1455 Q2282.74 1450.39 2288.55 1450.39 Z\" fill=\"#000000\" fill-rule=\"evenodd\" fill-opacity=\"1\" /><path clip-path=\"url(#clip550)\" d=\"M2308.71 1479.7 L2313.59 1479.7 L2313.59 1485.58 L2308.71 1485.58 L2308.71 1479.7 Z\" fill=\"#000000\" fill-rule=\"evenodd\" fill-opacity=\"1\" /><path clip-path=\"url(#clip550)\" d=\"M2333.78 1454.1 Q2330.17 1454.1 2328.34 1457.66 Q2326.53 1461.2 2326.53 1468.33 Q2326.53 1475.44 2328.34 1479.01 Q2330.17 1482.55 2333.78 1482.55 Q2337.41 1482.55 2339.22 1479.01 Q2341.04 1475.44 2341.04 1468.33 Q2341.04 1461.2 2339.22 1457.66 Q2337.41 1454.1 2333.78 1454.1 M2333.78 1450.39 Q2339.59 1450.39 2342.64 1455 Q2345.72 1459.58 2345.72 1468.33 Q2345.72 1477.06 2342.64 1481.67 Q2339.59 1486.25 2333.78 1486.25 Q2327.97 1486.25 2324.89 1481.67 Q2321.83 1477.06 2321.83 1468.33 Q2321.83 1459.58 2324.89 1455 Q2327.97 1450.39 2333.78 1450.39 Z\" fill=\"#000000\" fill-rule=\"evenodd\" fill-opacity=\"1\" /><path clip-path=\"url(#clip550)\" d=\"M1276.94 1518.52 L1282.8 1518.52 L1282.8 1568.04 L1276.94 1568.04 L1276.94 1518.52 Z\" fill=\"#000000\" fill-rule=\"evenodd\" fill-opacity=\"1\" /><path clip-path=\"url(#clip550)\" d=\"M1324.69 1532.4 L1311.8 1549.74 L1325.35 1568.04 L1318.45 1568.04 L1308.07 1554.04 L1297.7 1568.04 L1290.79 1568.04 L1304.63 1549.39 L1291.97 1532.4 L1298.87 1532.4 L1308.33 1545.1 L1317.78 1532.4 L1324.69 1532.4 Z\" fill=\"#000000\" fill-rule=\"evenodd\" fill-opacity=\"1\" /><polyline clip-path=\"url(#clip552)\" style=\"stroke:#000000; stroke-linecap:butt; stroke-linejoin:round; stroke-width:2; stroke-opacity:0.1; fill:none\" points=\"\n  249.542,1386.4 2352.76,1386.4 \n  \"/>\n<polyline clip-path=\"url(#clip552)\" style=\"stroke:#000000; stroke-linecap:butt; stroke-linejoin:round; stroke-width:2; stroke-opacity:0.1; fill:none\" points=\"\n  249.542,1079.74 2352.76,1079.74 \n  \"/>\n<polyline clip-path=\"url(#clip552)\" style=\"stroke:#000000; stroke-linecap:butt; stroke-linejoin:round; stroke-width:2; stroke-opacity:0.1; fill:none\" points=\"\n  249.542,773.092 2352.76,773.092 \n  \"/>\n<polyline clip-path=\"url(#clip552)\" style=\"stroke:#000000; stroke-linecap:butt; stroke-linejoin:round; stroke-width:2; stroke-opacity:0.1; fill:none\" points=\"\n  249.542,466.44 2352.76,466.44 \n  \"/>\n<polyline clip-path=\"url(#clip552)\" style=\"stroke:#000000; stroke-linecap:butt; stroke-linejoin:round; stroke-width:2; stroke-opacity:0.1; fill:none\" points=\"\n  249.542,159.788 2352.76,159.788 \n  \"/>\n<polyline clip-path=\"url(#clip550)\" style=\"stroke:#000000; stroke-linecap:butt; stroke-linejoin:round; stroke-width:4; stroke-opacity:1; fill:none\" points=\"\n  249.542,1423.18 249.542,123.472 \n  \"/>\n<polyline clip-path=\"url(#clip550)\" style=\"stroke:#000000; stroke-linecap:butt; stroke-linejoin:round; stroke-width:4; stroke-opacity:1; fill:none\" points=\"\n  2352.76,1423.18 2352.76,123.472 \n  \"/>\n<polyline clip-path=\"url(#clip550)\" style=\"stroke:#000000; stroke-linecap:butt; stroke-linejoin:round; stroke-width:4; stroke-opacity:1; fill:none\" points=\"\n  249.542,1386.4 268.44,1386.4 \n  \"/>\n<polyline clip-path=\"url(#clip550)\" style=\"stroke:#000000; stroke-linecap:butt; stroke-linejoin:round; stroke-width:4; stroke-opacity:1; fill:none\" points=\"\n  249.542,1079.74 268.44,1079.74 \n  \"/>\n<polyline clip-path=\"url(#clip550)\" style=\"stroke:#000000; stroke-linecap:butt; stroke-linejoin:round; stroke-width:4; stroke-opacity:1; fill:none\" points=\"\n  249.542,773.092 268.44,773.092 \n  \"/>\n<polyline clip-path=\"url(#clip550)\" style=\"stroke:#000000; stroke-linecap:butt; stroke-linejoin:round; stroke-width:4; stroke-opacity:1; fill:none\" points=\"\n  249.542,466.44 268.44,466.44 \n  \"/>\n<polyline clip-path=\"url(#clip550)\" style=\"stroke:#000000; stroke-linecap:butt; stroke-linejoin:round; stroke-width:4; stroke-opacity:1; fill:none\" points=\"\n  249.542,159.788 268.44,159.788 \n  \"/>\n<path clip-path=\"url(#clip550)\" d=\"M126.205 1372.19 Q122.593 1372.19 120.765 1375.76 Q118.959 1379.3 118.959 1386.43 Q118.959 1393.54 120.765 1397.1 Q122.593 1400.64 126.205 1400.64 Q129.839 1400.64 131.644 1397.1 Q133.473 1393.54 133.473 1386.43 Q133.473 1379.3 131.644 1375.76 Q129.839 1372.19 126.205 1372.19 M126.205 1368.49 Q132.015 1368.49 135.07 1373.1 Q138.149 1377.68 138.149 1386.43 Q138.149 1395.16 135.07 1399.76 Q132.015 1404.35 126.205 1404.35 Q120.394 1404.35 117.316 1399.76 Q114.26 1395.16 114.26 1386.43 Q114.26 1377.68 117.316 1373.1 Q120.394 1368.49 126.205 1368.49 Z\" fill=\"#000000\" fill-rule=\"evenodd\" fill-opacity=\"1\" /><path clip-path=\"url(#clip550)\" d=\"M146.366 1397.8 L151.251 1397.8 L151.251 1403.68 L146.366 1403.68 L146.366 1397.8 Z\" fill=\"#000000\" fill-rule=\"evenodd\" fill-opacity=\"1\" /><path clip-path=\"url(#clip550)\" d=\"M171.436 1372.19 Q167.825 1372.19 165.996 1375.76 Q164.19 1379.3 164.19 1386.43 Q164.19 1393.54 165.996 1397.1 Q167.825 1400.64 171.436 1400.64 Q175.07 1400.64 176.876 1397.1 Q178.704 1393.54 178.704 1386.43 Q178.704 1379.3 176.876 1375.76 Q175.07 1372.19 171.436 1372.19 M171.436 1368.49 Q177.246 1368.49 180.301 1373.1 Q183.38 1377.68 183.38 1386.43 Q183.38 1395.16 180.301 1399.76 Q177.246 1404.35 171.436 1404.35 Q165.626 1404.35 162.547 1399.76 Q159.491 1395.16 159.491 1386.43 Q159.491 1377.68 162.547 1373.1 Q165.626 1368.49 171.436 1368.49 Z\" fill=\"#000000\" fill-rule=\"evenodd\" fill-opacity=\"1\" /><path clip-path=\"url(#clip550)\" d=\"M201.598 1372.19 Q197.987 1372.19 196.158 1375.76 Q194.352 1379.3 194.352 1386.43 Q194.352 1393.54 196.158 1397.1 Q197.987 1400.64 201.598 1400.64 Q205.232 1400.64 207.037 1397.1 Q208.866 1393.54 208.866 1386.43 Q208.866 1379.3 207.037 1375.76 Q205.232 1372.19 201.598 1372.19 M201.598 1368.49 Q207.408 1368.49 210.463 1373.1 Q213.542 1377.68 213.542 1386.43 Q213.542 1395.16 210.463 1399.76 Q207.408 1404.35 201.598 1404.35 Q195.787 1404.35 192.709 1399.76 Q189.653 1395.16 189.653 1386.43 Q189.653 1377.68 192.709 1373.1 Q195.787 1368.49 201.598 1368.49 Z\" fill=\"#000000\" fill-rule=\"evenodd\" fill-opacity=\"1\" /><path clip-path=\"url(#clip550)\" d=\"M127.2 1065.54 Q123.589 1065.54 121.76 1069.11 Q119.955 1072.65 119.955 1079.78 Q119.955 1086.89 121.76 1090.45 Q123.589 1093.99 127.2 1093.99 Q130.834 1093.99 132.64 1090.45 Q134.468 1086.89 134.468 1079.78 Q134.468 1072.65 132.64 1069.11 Q130.834 1065.54 127.2 1065.54 M127.2 1061.84 Q133.01 1061.84 136.066 1066.45 Q139.144 1071.03 139.144 1079.78 Q139.144 1088.51 136.066 1093.11 Q133.01 1097.7 127.2 1097.7 Q121.39 1097.7 118.311 1093.11 Q115.256 1088.51 115.256 1079.78 Q115.256 1071.03 118.311 1066.45 Q121.39 1061.84 127.2 1061.84 Z\" fill=\"#000000\" fill-rule=\"evenodd\" fill-opacity=\"1\" /><path clip-path=\"url(#clip550)\" d=\"M147.362 1091.14 L152.246 1091.14 L152.246 1097.02 L147.362 1097.02 L147.362 1091.14 Z\" fill=\"#000000\" fill-rule=\"evenodd\" fill-opacity=\"1\" /><path clip-path=\"url(#clip550)\" d=\"M166.459 1093.09 L182.778 1093.09 L182.778 1097.02 L160.834 1097.02 L160.834 1093.09 Q163.496 1090.33 168.079 1085.7 Q172.686 1081.05 173.866 1079.71 Q176.112 1077.19 176.991 1075.45 Q177.894 1073.69 177.894 1072 Q177.894 1069.25 175.95 1067.51 Q174.028 1065.77 170.927 1065.77 Q168.727 1065.77 166.274 1066.54 Q163.843 1067.3 161.065 1068.85 L161.065 1064.13 Q163.89 1063 166.343 1062.42 Q168.797 1061.84 170.834 1061.84 Q176.204 1061.84 179.399 1064.52 Q182.593 1067.21 182.593 1071.7 Q182.593 1073.83 181.783 1075.75 Q180.996 1077.65 178.889 1080.24 Q178.311 1080.91 175.209 1084.13 Q172.107 1087.32 166.459 1093.09 Z\" fill=\"#000000\" fill-rule=\"evenodd\" fill-opacity=\"1\" /><path clip-path=\"url(#clip550)\" d=\"M192.639 1062.46 L210.996 1062.46 L210.996 1066.4 L196.922 1066.4 L196.922 1074.87 Q197.94 1074.52 198.959 1074.36 Q199.977 1074.18 200.996 1074.18 Q206.783 1074.18 210.162 1077.35 Q213.542 1080.52 213.542 1085.94 Q213.542 1091.51 210.07 1094.62 Q206.598 1097.7 200.278 1097.7 Q198.102 1097.7 195.834 1097.32 Q193.588 1096.95 191.181 1096.21 L191.181 1091.51 Q193.264 1092.65 195.487 1093.2 Q197.709 1093.76 200.186 1093.76 Q204.19 1093.76 206.528 1091.65 Q208.866 1089.55 208.866 1085.94 Q208.866 1082.32 206.528 1080.22 Q204.19 1078.11 200.186 1078.11 Q198.311 1078.11 196.436 1078.53 Q194.584 1078.95 192.639 1079.82 L192.639 1062.46 Z\" fill=\"#000000\" fill-rule=\"evenodd\" fill-opacity=\"1\" /><path clip-path=\"url(#clip550)\" d=\"M126.205 758.891 Q122.593 758.891 120.765 762.456 Q118.959 765.997 118.959 773.127 Q118.959 780.233 120.765 783.798 Q122.593 787.34 126.205 787.34 Q129.839 787.34 131.644 783.798 Q133.473 780.233 133.473 773.127 Q133.473 765.997 131.644 762.456 Q129.839 758.891 126.205 758.891 M126.205 755.187 Q132.015 755.187 135.07 759.794 Q138.149 764.377 138.149 773.127 Q138.149 781.854 135.07 786.46 Q132.015 791.043 126.205 791.043 Q120.394 791.043 117.316 786.46 Q114.26 781.854 114.26 773.127 Q114.26 764.377 117.316 759.794 Q120.394 755.187 126.205 755.187 Z\" fill=\"#000000\" fill-rule=\"evenodd\" fill-opacity=\"1\" /><path clip-path=\"url(#clip550)\" d=\"M146.366 784.492 L151.251 784.492 L151.251 790.372 L146.366 790.372 L146.366 784.492 Z\" fill=\"#000000\" fill-rule=\"evenodd\" fill-opacity=\"1\" /><path clip-path=\"url(#clip550)\" d=\"M161.482 755.812 L179.839 755.812 L179.839 759.747 L165.765 759.747 L165.765 768.219 Q166.783 767.872 167.802 767.71 Q168.82 767.525 169.839 767.525 Q175.626 767.525 179.005 770.696 Q182.385 773.868 182.385 779.284 Q182.385 784.863 178.913 787.965 Q175.44 791.043 169.121 791.043 Q166.945 791.043 164.677 790.673 Q162.431 790.303 160.024 789.562 L160.024 784.863 Q162.107 785.997 164.329 786.553 Q166.552 787.108 169.028 787.108 Q173.033 787.108 175.371 785.002 Q177.709 782.895 177.709 779.284 Q177.709 775.673 175.371 773.567 Q173.033 771.46 169.028 771.46 Q167.153 771.46 165.278 771.877 Q163.427 772.293 161.482 773.173 L161.482 755.812 Z\" fill=\"#000000\" fill-rule=\"evenodd\" fill-opacity=\"1\" /><path clip-path=\"url(#clip550)\" d=\"M201.598 758.891 Q197.987 758.891 196.158 762.456 Q194.352 765.997 194.352 773.127 Q194.352 780.233 196.158 783.798 Q197.987 787.34 201.598 787.34 Q205.232 787.34 207.037 783.798 Q208.866 780.233 208.866 773.127 Q208.866 765.997 207.037 762.456 Q205.232 758.891 201.598 758.891 M201.598 755.187 Q207.408 755.187 210.463 759.794 Q213.542 764.377 213.542 773.127 Q213.542 781.854 210.463 786.46 Q207.408 791.043 201.598 791.043 Q195.787 791.043 192.709 786.46 Q189.653 781.854 189.653 773.127 Q189.653 764.377 192.709 759.794 Q195.787 755.187 201.598 755.187 Z\" fill=\"#000000\" fill-rule=\"evenodd\" fill-opacity=\"1\" /><path clip-path=\"url(#clip550)\" d=\"M127.2 452.239 Q123.589 452.239 121.76 455.804 Q119.955 459.345 119.955 466.475 Q119.955 473.581 121.76 477.146 Q123.589 480.688 127.2 480.688 Q130.834 480.688 132.64 477.146 Q134.468 473.581 134.468 466.475 Q134.468 459.345 132.64 455.804 Q130.834 452.239 127.2 452.239 M127.2 448.535 Q133.01 448.535 136.066 453.142 Q139.144 457.725 139.144 466.475 Q139.144 475.202 136.066 479.808 Q133.01 484.392 127.2 484.392 Q121.39 484.392 118.311 479.808 Q115.256 475.202 115.256 466.475 Q115.256 457.725 118.311 453.142 Q121.39 448.535 127.2 448.535 Z\" fill=\"#000000\" fill-rule=\"evenodd\" fill-opacity=\"1\" /><path clip-path=\"url(#clip550)\" d=\"M147.362 477.841 L152.246 477.841 L152.246 483.72 L147.362 483.72 L147.362 477.841 Z\" fill=\"#000000\" fill-rule=\"evenodd\" fill-opacity=\"1\" /><path clip-path=\"url(#clip550)\" d=\"M161.251 449.16 L183.473 449.16 L183.473 451.151 L170.927 483.72 L166.042 483.72 L177.848 453.095 L161.251 453.095 L161.251 449.16 Z\" fill=\"#000000\" fill-rule=\"evenodd\" fill-opacity=\"1\" /><path clip-path=\"url(#clip550)\" d=\"M192.639 449.16 L210.996 449.16 L210.996 453.095 L196.922 453.095 L196.922 461.568 Q197.94 461.22 198.959 461.058 Q199.977 460.873 200.996 460.873 Q206.783 460.873 210.162 464.044 Q213.542 467.216 213.542 472.632 Q213.542 478.211 210.07 481.313 Q206.598 484.392 200.278 484.392 Q198.102 484.392 195.834 484.021 Q193.588 483.651 191.181 482.91 L191.181 478.211 Q193.264 479.345 195.487 479.901 Q197.709 480.456 200.186 480.456 Q204.19 480.456 206.528 478.35 Q208.866 476.243 208.866 472.632 Q208.866 469.021 206.528 466.915 Q204.19 464.808 200.186 464.808 Q198.311 464.808 196.436 465.225 Q194.584 465.642 192.639 466.521 L192.639 449.16 Z\" fill=\"#000000\" fill-rule=\"evenodd\" fill-opacity=\"1\" /><path clip-path=\"url(#clip550)\" d=\"M117.015 173.133 L124.654 173.133 L124.654 146.768 L116.343 148.434 L116.343 144.175 L124.607 142.508 L129.283 142.508 L129.283 173.133 L136.922 173.133 L136.922 177.068 L117.015 177.068 L117.015 173.133 Z\" fill=\"#000000\" fill-rule=\"evenodd\" fill-opacity=\"1\" /><path clip-path=\"url(#clip550)\" d=\"M146.366 171.189 L151.251 171.189 L151.251 177.068 L146.366 177.068 L146.366 171.189 Z\" fill=\"#000000\" fill-rule=\"evenodd\" fill-opacity=\"1\" /><path clip-path=\"url(#clip550)\" d=\"M171.436 145.587 Q167.825 145.587 165.996 149.152 Q164.19 152.694 164.19 159.823 Q164.19 166.93 165.996 170.494 Q167.825 174.036 171.436 174.036 Q175.07 174.036 176.876 170.494 Q178.704 166.93 178.704 159.823 Q178.704 152.694 176.876 149.152 Q175.07 145.587 171.436 145.587 M171.436 141.883 Q177.246 141.883 180.301 146.49 Q183.38 151.073 183.38 159.823 Q183.38 168.55 180.301 173.156 Q177.246 177.74 171.436 177.74 Q165.626 177.74 162.547 173.156 Q159.491 168.55 159.491 159.823 Q159.491 151.073 162.547 146.49 Q165.626 141.883 171.436 141.883 Z\" fill=\"#000000\" fill-rule=\"evenodd\" fill-opacity=\"1\" /><path clip-path=\"url(#clip550)\" d=\"M201.598 145.587 Q197.987 145.587 196.158 149.152 Q194.352 152.694 194.352 159.823 Q194.352 166.93 196.158 170.494 Q197.987 174.036 201.598 174.036 Q205.232 174.036 207.037 170.494 Q208.866 166.93 208.866 159.823 Q208.866 152.694 207.037 149.152 Q205.232 145.587 201.598 145.587 M201.598 141.883 Q207.408 141.883 210.463 146.49 Q213.542 151.073 213.542 159.823 Q213.542 168.55 210.463 173.156 Q207.408 177.74 201.598 177.74 Q195.787 177.74 192.709 173.156 Q189.653 168.55 189.653 159.823 Q189.653 151.073 192.709 146.49 Q195.787 141.883 201.598 141.883 Z\" fill=\"#000000\" fill-rule=\"evenodd\" fill-opacity=\"1\" /><path clip-path=\"url(#clip550)\" d=\"M16.4842 791.436 L16.4842 785.007 L35.9632 785.007 L35.9632 761.645 L16.4842 761.645 L16.4842 755.216 L64.0042 755.216 L64.0042 761.645 L41.3741 761.645 L41.3741 785.007 L64.0042 785.007 L64.0042 791.436 L16.4842 791.436 Z\" fill=\"#000000\" fill-rule=\"evenodd\" fill-opacity=\"1\" /><path clip-path=\"url(#clip550)\" d=\"M504.66 27.2059 L512.114 27.2059 L512.114 72.576 L504.66 72.576 L504.66 27.2059 M504.66 9.54393 L512.114 9.54393 L512.114 18.9825 L504.66 18.9825 L504.66 9.54393 Z\" fill=\"#000000\" fill-rule=\"evenodd\" fill-opacity=\"1\" /><path clip-path=\"url(#clip550)\" d=\"M563.034 35.9153 Q565.829 30.8922 569.718 28.5022 Q573.607 26.1121 578.873 26.1121 Q585.962 26.1121 589.81 31.0947 Q593.659 36.0368 593.659 45.1919 L593.659 72.576 L586.164 72.576 L586.164 45.4349 Q586.164 38.913 583.855 35.7533 Q581.546 32.5936 576.807 32.5936 Q571.014 32.5936 567.652 36.4419 Q564.289 40.2903 564.289 46.9338 L564.289 72.576 L556.795 72.576 L556.795 45.4349 Q556.795 38.8725 554.486 35.7533 Q552.177 32.5936 547.357 32.5936 Q541.645 32.5936 538.283 36.4824 Q534.92 40.3308 534.92 46.9338 L534.92 72.576 L527.426 72.576 L527.426 27.2059 L534.92 27.2059 L534.92 34.2544 Q537.473 30.082 541.037 28.0971 Q544.602 26.1121 549.504 26.1121 Q554.446 26.1121 557.889 28.6237 Q561.373 31.1352 563.034 35.9153 Z\" fill=\"#000000\" fill-rule=\"evenodd\" fill-opacity=\"1\" /><path clip-path=\"url(#clip550)\" d=\"M615.736 65.7705 L615.736 89.8329 L608.242 89.8329 L608.242 27.2059 L615.736 27.2059 L615.736 34.0924 Q618.085 30.0415 621.65 28.0971 Q625.256 26.1121 630.238 26.1121 Q638.502 26.1121 643.647 32.6746 Q648.832 39.2371 648.832 49.9314 Q648.832 60.6258 643.647 67.1883 Q638.502 73.7508 630.238 73.7508 Q625.256 73.7508 621.65 71.8063 Q618.085 69.8214 615.736 65.7705 M641.095 49.9314 Q641.095 41.7081 637.692 37.0496 Q634.33 32.3505 628.415 32.3505 Q622.501 32.3505 619.098 37.0496 Q615.736 41.7081 615.736 49.9314 Q615.736 58.1548 619.098 62.8538 Q622.501 67.5124 628.415 67.5124 Q634.33 67.5124 637.692 62.8538 Q641.095 58.1548 641.095 49.9314 Z\" fill=\"#000000\" fill-rule=\"evenodd\" fill-opacity=\"1\" /><path clip-path=\"url(#clip550)\" d=\"M661.187 9.54393 L668.641 9.54393 L668.641 72.576 L661.187 72.576 L661.187 9.54393 Z\" fill=\"#000000\" fill-rule=\"evenodd\" fill-opacity=\"1\" /><path clip-path=\"url(#clip550)\" d=\"M684.237 27.2059 L691.69 27.2059 L691.69 72.576 L684.237 72.576 L684.237 27.2059 M684.237 9.54393 L691.69 9.54393 L691.69 18.9825 L684.237 18.9825 L684.237 9.54393 Z\" fill=\"#000000\" fill-rule=\"evenodd\" fill-opacity=\"1\" /><path clip-path=\"url(#clip550)\" d=\"M739.937 28.9478 L739.937 35.9153 Q736.777 34.1734 733.577 33.3227 Q730.417 32.4315 727.176 32.4315 Q719.925 32.4315 715.915 37.0496 Q711.904 41.6271 711.904 49.9314 Q711.904 58.2358 715.915 62.8538 Q719.925 67.4314 727.176 67.4314 Q730.417 67.4314 733.577 66.5807 Q736.777 65.6895 739.937 63.9476 L739.937 70.8341 Q736.818 72.2924 733.455 73.0216 Q730.134 73.7508 726.366 73.7508 Q716.117 73.7508 710.082 67.3098 Q704.046 60.8689 704.046 49.9314 Q704.046 38.832 710.122 32.472 Q716.239 26.1121 726.852 26.1121 Q730.296 26.1121 733.577 26.8413 Q736.858 27.5299 739.937 28.9478 Z\" fill=\"#000000\" fill-rule=\"evenodd\" fill-opacity=\"1\" /><path clip-path=\"url(#clip550)\" d=\"M752.9 27.2059 L760.353 27.2059 L760.353 72.576 L752.9 72.576 L752.9 27.2059 M752.9 9.54393 L760.353 9.54393 L760.353 18.9825 L752.9 18.9825 L752.9 9.54393 Z\" fill=\"#000000\" fill-rule=\"evenodd\" fill-opacity=\"1\" /><path clip-path=\"url(#clip550)\" d=\"M783.322 14.324 L783.322 27.2059 L798.675 27.2059 L798.675 32.9987 L783.322 32.9987 L783.322 57.6282 Q783.322 63.1779 784.821 64.7578 Q786.36 66.3376 791.019 66.3376 L798.675 66.3376 L798.675 72.576 L791.019 72.576 Q782.39 72.576 779.109 69.3758 Q775.828 66.1351 775.828 57.6282 L775.828 32.9987 L770.359 32.9987 L770.359 27.2059 L775.828 27.2059 L775.828 14.324 L783.322 14.324 Z\" fill=\"#000000\" fill-rule=\"evenodd\" fill-opacity=\"1\" /><path clip-path=\"url(#clip550)\" d=\"M864.705 34.0924 L864.705 9.54393 L872.158 9.54393 L872.158 72.576 L864.705 72.576 L864.705 65.7705 Q862.355 69.8214 858.75 71.8063 Q855.185 73.7508 850.162 73.7508 Q841.938 73.7508 836.753 67.1883 Q831.609 60.6258 831.609 49.9314 Q831.609 39.2371 836.753 32.6746 Q841.938 26.1121 850.162 26.1121 Q855.185 26.1121 858.75 28.0971 Q862.355 30.0415 864.705 34.0924 M839.305 49.9314 Q839.305 58.1548 842.668 62.8538 Q846.07 67.5124 851.985 67.5124 Q857.899 67.5124 861.302 62.8538 Q864.705 58.1548 864.705 49.9314 Q864.705 41.7081 861.302 37.0496 Q857.899 32.3505 851.985 32.3505 Q846.07 32.3505 842.668 37.0496 Q839.305 41.7081 839.305 49.9314 Z\" fill=\"#000000\" fill-rule=\"evenodd\" fill-opacity=\"1\" /><path clip-path=\"url(#clip550)\" d=\"M887.511 27.2059 L894.965 27.2059 L894.965 72.576 L887.511 72.576 L887.511 27.2059 M887.511 9.54393 L894.965 9.54393 L894.965 18.9825 L887.511 18.9825 L887.511 9.54393 Z\" fill=\"#000000\" fill-rule=\"evenodd\" fill-opacity=\"1\" /><path clip-path=\"url(#clip550)\" d=\"M933.529 9.54393 L933.529 15.7418 L926.4 15.7418 Q922.389 15.7418 920.81 17.3622 Q919.27 18.9825 919.27 23.1955 L919.27 27.2059 L931.544 27.2059 L931.544 32.9987 L919.27 32.9987 L919.27 72.576 L911.776 72.576 L911.776 32.9987 L904.646 32.9987 L904.646 27.2059 L911.776 27.2059 L911.776 24.0462 Q911.776 16.471 915.3 13.0277 Q918.825 9.54393 926.481 9.54393 L933.529 9.54393 Z\" fill=\"#000000\" fill-rule=\"evenodd\" fill-opacity=\"1\" /><path clip-path=\"url(#clip550)\" d=\"M962.736 9.54393 L962.736 15.7418 L955.607 15.7418 Q951.596 15.7418 950.017 17.3622 Q948.477 18.9825 948.477 23.1955 L948.477 27.2059 L960.751 27.2059 L960.751 32.9987 L948.477 32.9987 L948.477 72.576 L940.983 72.576 L940.983 32.9987 L933.853 32.9987 L933.853 27.2059 L940.983 27.2059 L940.983 24.0462 Q940.983 16.471 944.507 13.0277 Q948.032 9.54393 955.688 9.54393 L962.736 9.54393 Z\" fill=\"#000000\" fill-rule=\"evenodd\" fill-opacity=\"1\" /><path clip-path=\"url(#clip550)\" d=\"M968.205 54.671 L968.205 27.2059 L975.659 27.2059 L975.659 54.3874 Q975.659 60.8284 978.17 64.0691 Q980.682 67.2693 985.705 67.2693 Q991.741 67.2693 995.225 63.421 Q998.749 59.5726 998.749 52.9291 L998.749 27.2059 L1006.2 27.2059 L1006.2 72.576 L998.749 72.576 L998.749 65.6084 Q996.035 69.7404 992.43 71.7658 Q988.865 73.7508 984.125 73.7508 Q976.307 73.7508 972.256 68.8897 Q968.205 64.0286 968.205 54.671 M986.961 26.1121 L986.961 26.1121 Z\" fill=\"#000000\" fill-rule=\"evenodd\" fill-opacity=\"1\" /><path clip-path=\"url(#clip550)\" d=\"M1050.48 28.5427 L1050.48 35.5912 Q1047.32 33.9709 1043.92 33.1607 Q1040.51 32.3505 1036.87 32.3505 Q1031.32 32.3505 1028.52 34.0519 Q1025.77 35.7533 1025.77 39.156 Q1025.77 41.7486 1027.75 43.2475 Q1029.74 44.7058 1035.73 46.0426 L1038.29 46.6097 Q1046.23 48.3111 1049.55 51.4303 Q1052.91 54.509 1052.91 60.0587 Q1052.91 66.3781 1047.89 70.0644 Q1042.9 73.7508 1034.15 73.7508 Q1030.51 73.7508 1026.54 73.0216 Q1022.61 72.3329 1018.23 70.9151 L1018.23 63.2184 Q1022.37 65.3654 1026.38 66.4591 Q1030.39 67.5124 1034.32 67.5124 Q1039.58 67.5124 1042.42 65.73 Q1045.25 63.9071 1045.25 60.6258 Q1045.25 57.5877 1043.19 55.9673 Q1041.16 54.3469 1034.23 52.8481 L1031.64 52.2405 Q1024.72 50.7821 1021.64 47.7845 Q1018.56 44.7463 1018.56 39.4801 Q1018.56 33.0797 1023.09 29.5959 Q1027.63 26.1121 1035.98 26.1121 Q1040.11 26.1121 1043.75 26.7198 Q1047.4 27.3274 1050.48 28.5427 Z\" fill=\"#000000\" fill-rule=\"evenodd\" fill-opacity=\"1\" /><path clip-path=\"url(#clip550)\" d=\"M1064.78 27.2059 L1072.23 27.2059 L1072.23 72.576 L1064.78 72.576 L1064.78 27.2059 M1064.78 9.54393 L1072.23 9.54393 L1072.23 18.9825 L1064.78 18.9825 L1064.78 9.54393 Z\" fill=\"#000000\" fill-rule=\"evenodd\" fill-opacity=\"1\" /><path clip-path=\"url(#clip550)\" d=\"M1105.41 32.4315 Q1099.41 32.4315 1095.93 37.1306 Q1092.45 41.7891 1092.45 49.9314 Q1092.45 58.0738 1095.89 62.7728 Q1099.37 67.4314 1105.41 67.4314 Q1111.36 67.4314 1114.85 62.7323 Q1118.33 58.0333 1118.33 49.9314 Q1118.33 41.8701 1114.85 37.1711 Q1111.36 32.4315 1105.41 32.4315 M1105.41 26.1121 Q1115.13 26.1121 1120.68 32.4315 Q1126.23 38.7509 1126.23 49.9314 Q1126.23 61.0714 1120.68 67.4314 Q1115.13 73.7508 1105.41 73.7508 Q1095.65 73.7508 1090.1 67.4314 Q1084.59 61.0714 1084.59 49.9314 Q1084.59 38.7509 1090.1 32.4315 Q1095.65 26.1121 1105.41 26.1121 Z\" fill=\"#000000\" fill-rule=\"evenodd\" fill-opacity=\"1\" /><path clip-path=\"url(#clip550)\" d=\"M1176.3 45.1919 L1176.3 72.576 L1168.85 72.576 L1168.85 45.4349 Q1168.85 38.994 1166.33 35.7938 Q1163.82 32.5936 1158.8 32.5936 Q1152.76 32.5936 1149.28 36.4419 Q1145.8 40.2903 1145.8 46.9338 L1145.8 72.576 L1138.3 72.576 L1138.3 27.2059 L1145.8 27.2059 L1145.8 34.2544 Q1148.47 30.163 1152.08 28.1376 Q1155.72 26.1121 1160.46 26.1121 Q1168.28 26.1121 1172.29 30.9732 Q1176.3 35.7938 1176.3 45.1919 Z\" fill=\"#000000\" fill-rule=\"evenodd\" fill-opacity=\"1\" /><path clip-path=\"url(#clip550)\" d=\"M1235.44 9.62495 Q1230.02 18.942 1227.38 28.0566 Q1224.75 37.1711 1224.75 46.5287 Q1224.75 55.8863 1227.38 65.0818 Q1230.06 74.2369 1235.44 83.5134 L1228.96 83.5134 Q1222.89 73.9938 1219.85 64.7983 Q1216.85 55.6027 1216.85 46.5287 Q1216.85 37.4952 1219.85 28.3401 Q1222.84 19.1851 1228.96 9.62495 L1235.44 9.62495 Z\" fill=\"#000000\" fill-rule=\"evenodd\" fill-opacity=\"1\" /><path clip-path=\"url(#clip550)\" d=\"M1287.62 45.1919 L1287.62 72.576 L1280.17 72.576 L1280.17 45.4349 Q1280.17 38.994 1277.65 35.7938 Q1275.14 32.5936 1270.12 32.5936 Q1264.08 32.5936 1260.6 36.4419 Q1257.12 40.2903 1257.12 46.9338 L1257.12 72.576 L1249.62 72.576 L1249.62 27.2059 L1257.12 27.2059 L1257.12 34.2544 Q1259.79 30.163 1263.39 28.1376 Q1267.04 26.1121 1271.78 26.1121 Q1279.6 26.1121 1283.61 30.9732 Q1287.62 35.7938 1287.62 45.1919 Z\" fill=\"#000000\" fill-rule=\"evenodd\" fill-opacity=\"1\" /><path clip-path=\"url(#clip550)\" d=\"M1309.86 14.324 L1309.86 27.2059 L1325.21 27.2059 L1325.21 32.9987 L1309.86 32.9987 L1309.86 57.6282 Q1309.86 63.1779 1311.36 64.7578 Q1312.9 66.3376 1317.56 66.3376 L1325.21 66.3376 L1325.21 72.576 L1317.56 72.576 Q1308.93 72.576 1305.65 69.3758 Q1302.36 66.1351 1302.36 57.6282 L1302.36 32.9987 L1296.9 32.9987 L1296.9 27.2059 L1302.36 27.2059 L1302.36 14.324 L1309.86 14.324 Z\" fill=\"#000000\" fill-rule=\"evenodd\" fill-opacity=\"1\" /><path clip-path=\"url(#clip550)\" d=\"M1335.99 34.9026 L1387.92 34.9026 L1387.92 41.7081 L1335.99 41.7081 L1335.99 34.9026 M1335.99 51.4303 L1387.92 51.4303 L1387.92 58.3168 L1335.99 58.3168 L1335.99 51.4303 Z\" fill=\"#000000\" fill-rule=\"evenodd\" fill-opacity=\"1\" /><path clip-path=\"url(#clip550)\" d=\"M1407 65.6895 L1420.37 65.6895 L1420.37 19.5497 L1405.82 22.4663 L1405.82 15.0127 L1420.29 12.096 L1428.47 12.096 L1428.47 65.6895 L1441.84 65.6895 L1441.84 72.576 L1407 72.576 L1407 65.6895 Z\" fill=\"#000000\" fill-rule=\"evenodd\" fill-opacity=\"1\" /><path clip-path=\"url(#clip550)\" d=\"M1476.88 39.075 Q1471.37 39.075 1468.13 42.8424 Q1464.93 46.6097 1464.93 53.1722 Q1464.93 59.6941 1468.13 63.502 Q1471.37 67.2693 1476.88 67.2693 Q1482.39 67.2693 1485.59 63.502 Q1488.83 59.6941 1488.83 53.1722 Q1488.83 46.6097 1485.59 42.8424 Q1482.39 39.075 1476.88 39.075 M1493.12 13.4328 L1493.12 20.8865 Q1490.04 19.4281 1486.88 18.6585 Q1483.76 17.8888 1480.69 17.8888 Q1472.58 17.8888 1468.29 23.3575 Q1464.04 28.8262 1463.43 39.8852 Q1465.82 36.3609 1469.42 34.4975 Q1473.03 32.5936 1477.36 32.5936 Q1486.48 32.5936 1491.74 38.1433 Q1497.05 43.6525 1497.05 53.1722 Q1497.05 62.4892 1491.54 68.12 Q1486.03 73.7508 1476.88 73.7508 Q1466.39 73.7508 1460.84 65.73 Q1455.29 57.6687 1455.29 42.3968 Q1455.29 28.0566 1462.09 19.5497 Q1468.9 11.0023 1480.36 11.0023 Q1483.44 11.0023 1486.56 11.6099 Q1489.72 12.2175 1493.12 13.4328 Z\" fill=\"#000000\" fill-rule=\"evenodd\" fill-opacity=\"1\" /><path clip-path=\"url(#clip550)\" d=\"M1512 62.2867 L1520.55 62.2867 L1520.55 69.2543 L1513.9 82.2172 L1508.68 82.2172 L1512 69.2543 L1512 62.2867 Z\" fill=\"#000000\" fill-rule=\"evenodd\" fill-opacity=\"1\" /><path clip-path=\"url(#clip550)\" d=\"M1562.84 27.2059 L1570.29 27.2059 L1570.29 72.576 L1562.84 72.576 L1562.84 27.2059 M1562.84 9.54393 L1570.29 9.54393 L1570.29 18.9825 L1562.84 18.9825 L1562.84 9.54393 Z\" fill=\"#000000\" fill-rule=\"evenodd\" fill-opacity=\"1\" /><path clip-path=\"url(#clip550)\" d=\"M1593.26 14.324 L1593.26 27.2059 L1608.61 27.2059 L1608.61 32.9987 L1593.26 32.9987 L1593.26 57.6282 Q1593.26 63.1779 1594.76 64.7578 Q1596.3 66.3376 1600.96 66.3376 L1608.61 66.3376 L1608.61 72.576 L1600.96 72.576 Q1592.33 72.576 1589.05 69.3758 Q1585.77 66.1351 1585.77 57.6282 L1585.77 32.9987 L1580.3 32.9987 L1580.3 27.2059 L1585.77 27.2059 L1585.77 14.324 L1593.26 14.324 Z\" fill=\"#000000\" fill-rule=\"evenodd\" fill-opacity=\"1\" /><path clip-path=\"url(#clip550)\" d=\"M1657.22 48.0275 L1657.22 51.6733 L1622.95 51.6733 Q1623.44 59.3701 1627.57 63.421 Q1631.74 67.4314 1639.16 67.4314 Q1643.45 67.4314 1647.46 66.3781 Q1651.51 65.3249 1655.48 63.2184 L1655.48 70.267 Q1651.47 71.9684 1647.26 72.8596 Q1643.05 73.7508 1638.71 73.7508 Q1627.85 73.7508 1621.49 67.4314 Q1615.18 61.1119 1615.18 50.3365 Q1615.18 39.1965 1621.17 32.6746 Q1627.21 26.1121 1637.41 26.1121 Q1646.57 26.1121 1651.88 32.0264 Q1657.22 37.9003 1657.22 48.0275 M1649.77 45.84 Q1649.69 39.7232 1646.33 36.0774 Q1643 32.4315 1637.5 32.4315 Q1631.26 32.4315 1627.49 35.9558 Q1623.76 39.4801 1623.2 45.8805 L1649.77 45.84 Z\" fill=\"#000000\" fill-rule=\"evenodd\" fill-opacity=\"1\" /><path clip-path=\"url(#clip550)\" d=\"M1695.75 34.1734 Q1694.49 33.4443 1692.99 33.1202 Q1691.53 32.7556 1689.75 32.7556 Q1683.43 32.7556 1680.03 36.8875 Q1676.67 40.9789 1676.67 48.6757 L1676.67 72.576 L1669.17 72.576 L1669.17 27.2059 L1676.67 27.2059 L1676.67 34.2544 Q1679.02 30.1225 1682.78 28.1376 Q1686.55 26.1121 1691.94 26.1121 Q1692.71 26.1121 1693.64 26.2337 Q1694.57 26.3147 1695.71 26.5172 L1695.75 34.1734 Z\" fill=\"#000000\" fill-rule=\"evenodd\" fill-opacity=\"1\" /><path clip-path=\"url(#clip550)\" d=\"M1732.49 28.5427 L1732.49 35.5912 Q1729.33 33.9709 1725.93 33.1607 Q1722.52 32.3505 1718.88 32.3505 Q1713.33 32.3505 1710.53 34.0519 Q1707.78 35.7533 1707.78 39.156 Q1707.78 41.7486 1709.76 43.2475 Q1711.75 44.7058 1717.74 46.0426 L1720.3 46.6097 Q1728.24 48.3111 1731.56 51.4303 Q1734.92 54.509 1734.92 60.0587 Q1734.92 66.3781 1729.9 70.0644 Q1724.91 73.7508 1716.16 73.7508 Q1712.52 73.7508 1708.55 73.0216 Q1704.62 72.3329 1700.24 70.9151 L1700.24 63.2184 Q1704.38 65.3654 1708.39 66.4591 Q1712.4 67.5124 1716.33 67.5124 Q1721.59 67.5124 1724.43 65.73 Q1727.26 63.9071 1727.26 60.6258 Q1727.26 57.5877 1725.2 55.9673 Q1723.17 54.3469 1716.25 52.8481 L1713.65 52.2405 Q1706.73 50.7821 1703.65 47.7845 Q1700.57 44.7463 1700.57 39.4801 Q1700.57 33.0797 1705.11 29.5959 Q1709.64 26.1121 1717.99 26.1121 Q1722.12 26.1121 1725.76 26.7198 Q1729.41 27.3274 1732.49 28.5427 Z\" fill=\"#000000\" fill-rule=\"evenodd\" fill-opacity=\"1\" /><path clip-path=\"url(#clip550)\" d=\"M1747.76 34.9026 L1799.69 34.9026 L1799.69 41.7081 L1747.76 41.7081 L1747.76 34.9026 M1747.76 51.4303 L1799.69 51.4303 L1799.69 58.3168 L1747.76 58.3168 L1747.76 51.4303 Z\" fill=\"#000000\" fill-rule=\"evenodd\" fill-opacity=\"1\" /><path clip-path=\"url(#clip550)\" d=\"M1818.77 65.6895 L1832.14 65.6895 L1832.14 19.5497 L1817.6 22.4663 L1817.6 15.0127 L1832.06 12.096 L1840.24 12.096 L1840.24 65.6895 L1853.61 65.6895 L1853.61 72.576 L1818.77 72.576 L1818.77 65.6895 Z\" fill=\"#000000\" fill-rule=\"evenodd\" fill-opacity=\"1\" /><path clip-path=\"url(#clip550)\" d=\"M1868.07 12.096 L1906.96 12.096 L1906.96 15.5798 L1885.01 72.576 L1876.46 72.576 L1897.12 18.9825 L1868.07 18.9825 L1868.07 12.096 Z\" fill=\"#000000\" fill-rule=\"evenodd\" fill-opacity=\"1\" /><path clip-path=\"url(#clip550)\" d=\"M1923.17 71.3202 L1923.17 63.8666 Q1926.24 65.3249 1929.4 66.0946 Q1932.56 66.8642 1935.6 66.8642 Q1943.7 66.8642 1947.96 61.436 Q1952.25 55.9673 1952.86 44.8678 Q1950.51 48.3516 1946.9 50.215 Q1943.3 52.0784 1938.92 52.0784 Q1929.85 52.0784 1924.54 46.6097 Q1919.28 41.1005 1919.28 31.5808 Q1919.28 22.2638 1924.79 16.633 Q1930.29 11.0023 1939.45 11.0023 Q1949.94 11.0023 1955.45 19.0636 Q1961 27.0843 1961 42.3968 Q1961 56.6965 1954.2 65.2439 Q1947.43 73.7508 1935.97 73.7508 Q1932.89 73.7508 1929.73 73.1431 Q1926.57 72.5355 1923.17 71.3202 M1939.45 45.678 Q1944.96 45.678 1948.16 41.9107 Q1951.4 38.1433 1951.4 31.5808 Q1951.4 25.0589 1948.16 21.2916 Q1944.96 17.4837 1939.45 17.4837 Q1933.94 17.4837 1930.7 21.2916 Q1927.5 25.0589 1927.5 31.5808 Q1927.5 38.1433 1930.7 41.9107 Q1933.94 45.678 1939.45 45.678 Z\" fill=\"#000000\" fill-rule=\"evenodd\" fill-opacity=\"1\" /><path clip-path=\"url(#clip550)\" d=\"M1982.75 65.6895 L2011.31 65.6895 L2011.31 72.576 L1972.91 72.576 L1972.91 65.6895 Q1977.57 60.8689 1985.59 52.7671 Q1993.65 44.6248 1995.72 42.2752 Q1999.65 37.8598 2001.19 34.8216 Q2002.77 31.7429 2002.77 28.7857 Q2002.77 23.9651 1999.36 20.927 Q1996 17.8888 1990.57 17.8888 Q1986.72 17.8888 1982.43 19.2256 Q1978.18 20.5624 1973.32 23.2765 L1973.32 15.0127 Q1978.26 13.0277 1982.55 12.015 Q1986.85 11.0023 1990.41 11.0023 Q1999.81 11.0023 2005.4 15.7013 Q2010.99 20.4004 2010.99 28.2591 Q2010.99 31.9859 2009.57 35.3482 Q2008.19 38.6699 2004.51 43.2069 Q2003.49 44.3817 1998.07 50.0125 Q1992.64 55.6027 1982.75 65.6895 Z\" fill=\"#000000\" fill-rule=\"evenodd\" fill-opacity=\"1\" /><path clip-path=\"url(#clip550)\" d=\"M2053.28 39.9662 Q2059.15 41.222 2062.44 45.1919 Q2065.76 49.1618 2065.76 54.9951 Q2065.76 63.9476 2059.6 68.8492 Q2053.44 73.7508 2042.1 73.7508 Q2038.29 73.7508 2034.24 72.9811 Q2030.23 72.2519 2025.94 70.7531 L2025.94 62.8538 Q2029.34 64.8388 2033.39 65.8515 Q2037.44 66.8642 2041.86 66.8642 Q2049.55 66.8642 2053.56 63.826 Q2057.61 60.7879 2057.61 54.9951 Q2057.61 49.6479 2053.85 46.6502 Q2050.12 43.612 2043.44 43.612 L2036.39 43.612 L2036.39 36.8875 L2043.76 36.8875 Q2049.8 36.8875 2053 34.4975 Q2056.2 32.067 2056.2 27.5299 Q2056.2 22.8714 2052.88 20.4004 Q2049.59 17.8888 2043.44 17.8888 Q2040.07 17.8888 2036.23 18.618 Q2032.38 19.3471 2027.76 20.8865 L2027.76 13.5948 Q2032.42 12.2985 2036.47 11.6504 Q2040.56 11.0023 2044.17 11.0023 Q2053.48 11.0023 2058.91 15.2557 Q2064.34 19.4686 2064.34 26.6793 Q2064.34 31.7024 2061.46 35.1862 Q2058.59 38.6294 2053.28 39.9662 Z\" fill=\"#000000\" fill-rule=\"evenodd\" fill-opacity=\"1\" /><path clip-path=\"url(#clip550)\" d=\"M2079.04 9.62495 L2085.53 9.62495 Q2091.6 19.1851 2094.6 28.3401 Q2097.64 37.4952 2097.64 46.5287 Q2097.64 55.6027 2094.6 64.7983 Q2091.6 73.9938 2085.53 83.5134 L2079.04 83.5134 Q2084.43 74.2369 2087.06 65.0818 Q2089.74 55.8863 2089.74 46.5287 Q2089.74 37.1711 2087.06 28.0566 Q2084.43 18.942 2079.04 9.62495 Z\" fill=\"#000000\" fill-rule=\"evenodd\" fill-opacity=\"1\" /><polyline clip-path=\"url(#clip552)\" style=\"stroke:#009af9; stroke-linecap:butt; stroke-linejoin:round; stroke-width:12; stroke-opacity:1; fill:none\" points=\"\n  309.067,1386.4 316.848,1386.4 324.629,1386.4 332.41,1386.4 340.191,1386.4 347.972,1386.4 355.753,1386.4 363.534,1386.4 371.315,1386.4 379.096,1386.4 \n  386.877,1386.4 394.658,1386.4 402.439,1386.4 410.22,1386.4 418.001,1386.4 425.782,1386.4 433.564,1386.4 441.345,1386.4 449.126,1386.4 456.907,1386.4 \n  464.688,1386.4 472.469,1386.4 480.25,1386.4 488.031,1386.4 495.812,1386.4 503.593,1386.4 511.374,1386.4 519.155,1386.4 526.936,1386.4 534.717,1386.4 \n  542.498,1386.4 550.279,1386.39 558.06,1386.39 565.841,1386.39 573.622,1386.39 581.403,1386.39 589.184,1386.39 596.965,1386.39 604.746,1386.39 612.527,1386.39 \n  620.308,1386.39 628.089,1386.38 635.87,1386.38 643.651,1386.37 651.433,1386.37 659.214,1386.36 666.995,1386.35 674.776,1386.33 682.557,1386.32 690.338,1386.29 \n  698.119,1386.27 705.9,1386.23 713.681,1386.19 721.462,1386.14 729.243,1386.07 737.024,1385.99 744.805,1385.89 752.586,1385.77 760.367,1385.62 768.148,1385.44 \n  775.929,1385.22 783.71,1384.96 791.491,1384.64 799.272,1384.25 807.053,1383.79 814.834,1383.23 822.615,1382.57 830.396,1381.79 838.177,1380.87 845.958,1379.78 \n  853.739,1378.49 861.52,1376.99 869.302,1375.24 877.083,1373.2 884.864,1370.84 892.645,1368.11 900.426,1364.96 908.207,1361.35 915.988,1357.22 923.769,1352.52 \n  931.55,1347.17 939.331,1341.12 947.112,1334.3 954.893,1326.63 962.674,1318.04 970.455,1308.46 978.236,1297.8 986.017,1285.99 993.798,1272.96 1001.58,1258.62 \n  1009.36,1242.91 1017.14,1225.76 1024.92,1207.1 1032.7,1186.89 1040.48,1165.08 1048.27,1141.63 1056.05,1116.52 1063.83,1089.74 1071.61,1061.3 1079.39,1031.22 \n  1087.17,999.536 1094.95,966.31 1102.73,931.62 1110.51,895.565 1118.29,858.267 1126.08,819.865 1133.86,780.523 1141.64,740.423 1149.42,699.768 1157.2,658.778 \n  1164.98,617.691 1172.76,576.758 1180.54,536.244 1188.32,496.423 1196.1,457.575 1203.89,419.985 1211.67,383.938 1219.45,349.715 1227.23,317.59 1235.01,287.828 \n  1242.79,260.677 1250.57,236.371 1258.35,215.119 1266.13,197.11 1273.92,182.503 1281.7,171.431 1289.48,163.992 1297.26,160.256 1305.04,160.256 1312.82,163.992 \n  1320.6,171.431 1328.38,182.503 1336.16,197.11 1343.94,215.119 1351.73,236.371 1359.51,260.677 1367.29,287.828 1375.07,317.59 1382.85,349.715 1390.63,383.938 \n  1398.41,419.985 1406.19,457.575 1413.97,496.423 1421.76,536.244 1429.54,576.758 1437.32,617.691 1445.1,658.778 1452.88,699.768 1460.66,740.423 1468.44,780.523 \n  1476.22,819.865 1484,858.267 1491.78,895.565 1499.57,931.62 1507.35,966.31 1515.13,999.536 1522.91,1031.22 1530.69,1061.3 1538.47,1089.74 1546.25,1116.52 \n  1554.03,1141.63 1561.81,1165.08 1569.59,1186.89 1577.38,1207.1 1585.16,1225.76 1592.94,1242.91 1600.72,1258.62 1608.5,1272.96 1616.28,1285.99 1624.06,1297.8 \n  1631.84,1308.46 1639.62,1318.04 1647.41,1326.63 1655.19,1334.3 1662.97,1341.12 1670.75,1347.17 1678.53,1352.52 1686.31,1357.22 1694.09,1361.35 1701.87,1364.96 \n  1709.65,1368.11 1717.43,1370.84 1725.22,1373.2 1733,1375.24 1740.78,1376.99 1748.56,1378.49 1756.34,1379.78 1764.12,1380.87 1771.9,1381.79 1779.68,1382.57 \n  1787.46,1383.23 1795.24,1383.79 1803.03,1384.25 1810.81,1384.64 1818.59,1384.96 1826.37,1385.22 1834.15,1385.44 1841.93,1385.62 1849.71,1385.77 1857.49,1385.89 \n  1865.27,1385.99 1873.06,1386.07 1880.84,1386.14 1888.62,1386.19 1896.4,1386.23 1904.18,1386.27 1911.96,1386.29 1919.74,1386.32 1927.52,1386.33 1935.3,1386.35 \n  1943.08,1386.36 1950.87,1386.37 1958.65,1386.37 1966.43,1386.38 1974.21,1386.38 1981.99,1386.39 1989.77,1386.39 1997.55,1386.39 2005.33,1386.39 2013.11,1386.39 \n  2020.89,1386.39 2028.68,1386.39 2036.46,1386.39 2044.24,1386.39 2052.02,1386.39 2059.8,1386.4 2067.58,1386.4 2075.36,1386.4 2083.14,1386.4 2090.92,1386.4 \n  2098.71,1386.4 2106.49,1386.4 2114.27,1386.4 2122.05,1386.4 2129.83,1386.4 2137.61,1386.4 2145.39,1386.4 2153.17,1386.4 2160.95,1386.4 2168.73,1386.4 \n  2176.52,1386.4 2184.3,1386.4 2192.08,1386.4 2199.86,1386.4 2207.64,1386.4 2215.42,1386.4 2223.2,1386.4 2230.98,1386.4 2238.76,1386.4 2246.54,1386.4 \n  2254.33,1386.4 2262.11,1386.4 2269.89,1386.4 2277.67,1386.4 2285.45,1386.4 2293.23,1386.4 \n  \"/>\n<polyline clip-path=\"url(#clip552)\" style=\"stroke:#e26f46; stroke-linecap:butt; stroke-linejoin:round; stroke-width:12; stroke-opacity:1; fill:none\" points=\"\n  309.067,1386.4 316.848,1384.8 324.629,1383.19 332.41,1381.59 340.191,1379.97 347.972,1378.35 355.753,1376.71 363.534,1375.06 371.315,1373.39 379.096,1371.71 \n  386.877,1370 394.658,1368.27 402.439,1366.52 410.22,1364.74 418.001,1362.92 425.782,1361.08 433.564,1359.19 441.345,1357.28 449.126,1355.32 456.907,1353.32 \n  464.688,1351.28 472.469,1349.19 480.25,1347.06 488.031,1344.87 495.812,1342.64 503.593,1340.35 511.374,1338 519.155,1335.6 526.936,1333.13 534.717,1330.61 \n  542.498,1328.02 550.279,1325.37 558.06,1322.65 565.841,1319.87 573.622,1317.01 581.403,1314.08 589.184,1311.08 596.965,1308.01 604.746,1304.86 612.527,1301.64 \n  620.308,1298.34 628.089,1294.96 635.87,1291.51 643.651,1287.97 651.433,1284.35 659.214,1280.66 666.995,1276.88 674.776,1273.02 682.557,1269.08 690.338,1265.05 \n  698.119,1260.95 705.9,1256.76 713.681,1252.5 721.462,1248.15 729.243,1243.72 737.024,1239.22 744.805,1234.63 752.586,1229.97 760.367,1225.23 768.148,1220.42 \n  775.929,1215.53 783.71,1210.58 791.491,1205.55 799.272,1200.46 807.053,1195.3 814.834,1190.08 822.615,1184.8 830.396,1179.46 838.177,1174.06 845.958,1168.62 \n  853.739,1163.13 861.52,1157.59 869.302,1152.01 877.083,1146.39 884.864,1140.75 892.645,1135.07 900.426,1129.36 908.207,1123.64 915.988,1117.89 923.769,1112.14 \n  931.55,1106.38 939.331,1100.62 947.112,1094.86 954.893,1089.1 962.674,1083.37 970.455,1077.65 978.236,1071.95 986.017,1066.29 993.798,1060.66 1001.58,1055.07 \n  1009.36,1049.53 1017.14,1044.04 1024.92,1038.61 1032.7,1033.24 1040.48,1027.94 1048.27,1022.72 1056.05,1017.59 1063.83,1012.54 1071.61,1007.58 1079.39,1002.73 \n  1087.17,997.977 1094.95,993.339 1102.73,988.817 1110.51,984.418 1118.29,980.147 1126.08,976.01 1133.86,972.011 1141.64,968.155 1149.42,964.448 1157.2,960.895 \n  1164.98,957.5 1172.76,954.267 1180.54,951.201 1188.32,948.306 1196.1,945.586 1203.89,943.044 1211.67,940.684 1219.45,938.509 1227.23,936.522 1235.01,934.726 \n  1242.79,933.124 1250.57,931.716 1258.35,930.506 1266.13,929.496 1273.92,928.685 1281.7,928.076 1289.48,927.67 1297.26,927.467 1305.04,927.467 1312.82,927.67 \n  1320.6,928.076 1328.38,928.685 1336.16,929.496 1343.94,930.506 1351.73,931.716 1359.51,933.124 1367.29,934.726 1375.07,936.522 1382.85,938.509 1390.63,940.684 \n  1398.41,943.044 1406.19,945.586 1413.97,948.306 1421.76,951.201 1429.54,954.267 1437.32,957.5 1445.1,960.895 1452.88,964.448 1460.66,968.155 1468.44,972.011 \n  1476.22,976.01 1484,980.147 1491.78,984.418 1499.57,988.817 1507.35,993.339 1515.13,997.977 1522.91,1002.73 1530.69,1007.58 1538.47,1012.54 1546.25,1017.59 \n  1554.03,1022.72 1561.81,1027.94 1569.59,1033.24 1577.38,1038.61 1585.16,1044.04 1592.94,1049.53 1600.72,1055.07 1608.5,1060.66 1616.28,1066.29 1624.06,1071.95 \n  1631.84,1077.65 1639.62,1083.37 1647.41,1089.1 1655.19,1094.86 1662.97,1100.62 1670.75,1106.38 1678.53,1112.14 1686.31,1117.89 1694.09,1123.64 1701.87,1129.36 \n  1709.65,1135.07 1717.43,1140.75 1725.22,1146.39 1733,1152.01 1740.78,1157.59 1748.56,1163.13 1756.34,1168.62 1764.12,1174.06 1771.9,1179.46 1779.68,1184.8 \n  1787.46,1190.08 1795.24,1195.3 1803.03,1200.46 1810.81,1205.55 1818.59,1210.58 1826.37,1215.53 1834.15,1220.42 1841.93,1225.23 1849.71,1229.97 1857.49,1234.63 \n  1865.27,1239.22 1873.06,1243.72 1880.84,1248.15 1888.62,1252.5 1896.4,1256.76 1904.18,1260.95 1911.96,1265.05 1919.74,1269.08 1927.52,1273.02 1935.3,1276.88 \n  1943.08,1280.66 1950.87,1284.35 1958.65,1287.97 1966.43,1291.51 1974.21,1294.96 1981.99,1298.34 1989.77,1301.64 1997.55,1304.86 2005.33,1308.01 2013.11,1311.08 \n  2020.89,1314.08 2028.68,1317.01 2036.46,1319.87 2044.24,1322.65 2052.02,1325.37 2059.8,1328.02 2067.58,1330.61 2075.36,1333.13 2083.14,1335.6 2090.92,1338 \n  2098.71,1340.35 2106.49,1342.64 2114.27,1344.87 2122.05,1347.06 2129.83,1349.19 2137.61,1351.28 2145.39,1353.32 2153.17,1355.32 2160.95,1357.28 2168.73,1359.19 \n  2176.52,1361.08 2184.3,1362.92 2192.08,1364.74 2199.86,1366.52 2207.64,1368.27 2215.42,1370 2223.2,1371.71 2230.98,1373.39 2238.76,1375.06 2246.54,1376.71 \n  2254.33,1378.35 2262.11,1379.97 2269.89,1381.59 2277.67,1383.19 2285.45,1384.8 2293.23,1386.4 \n  \"/>\n</svg>\n"
          },
          "metadata": {}
        },
        {
          "output_type": "stream",
          "name": "stdout",
          "text": [
            "Total time = 1.60, time steps = 16, iterations tot = 17923, error vs analytic = 8.21e-02 \n"
          ]
        }
      ]
    },
    {
      "cell_type": "code",
      "source": [
        "\n",
        "@views function diffusion_1D_impl(; do_visu=true)\n",
        "    # Physics\n",
        "    lx     = 10.0        # domain size\n",
        "    D      = 1.0         # diffusion coefficient\n",
        "    ttot   = 0.6         # total simulation time\n",
        "    # Numerics\n",
        "    nx     = 256         # numerical grid resolution\n",
        "    # Derived numerics\n",
        "    dx     = lx/nx       # grid size\n",
        "    dt     = dx^2/D/2.1  # time step (obeys CFL condition)\n",
        "    xc     = LinRange(dx/2, lx-dx/2, nx)\n",
        "    # Array allocation\n",
        "    qH     = zeros(nx-1) # on staggered grid\n",
        "    dHdt   = zeros(nx-2) # normal grid, without boundary points\n",
        "    # Initial condition\n",
        "    H0     = exp.(-(xc.-lx/2).^2)\n",
        "    H      = copy(H0)\n",
        "    t = 0.0; it = 0\n",
        "    # Physical time loop\n",
        "    while t<ttot\n",
        "        qH         .= -D*diff(H)/dx         # flux\n",
        "        dHdt       .=  -diff(qH)/dx         # rate of change\n",
        "        H[2:end-1] .= H[2:end-1] .+ dt*dHdt # update rule, sets the BC as H[1]=H[end]=0\n",
        "        t += dt; it += 1\n",
        "    end\n",
        "    # Analytic solution\n",
        "    Hana = 1/sqrt(4*(ttot+1/4)) * exp.(-(xc.-lx/2).^2 /(4*(ttot+1/4)))\n",
        "    @printf(\"Total time = %1.2f, time steps = %d, error vs analytic = %1.2e \\n\", round(ttot, sigdigits=2), it, norm(H-Hana))\n",
        "    # Visualize\n",
        "    if do_visu\n",
        "        plot(xc, H0, linewidth=3); display(plot!(xc, H, legend=false, framestyle=:box, linewidth=3, xlabel=\"lx\", ylabel=\"H\", title=\"explicit diffusion (nt=$it)\"))\n",
        "    end\n",
        "    return xc, H0\n",
        "end\n",
        "\n",
        "diffusion_1D(; do_visu=do_visu);"
      ],
      "metadata": {
        "id": "h7bbYIYy5dAJ"
      },
      "execution_count": null,
      "outputs": []
    }
  ]
}